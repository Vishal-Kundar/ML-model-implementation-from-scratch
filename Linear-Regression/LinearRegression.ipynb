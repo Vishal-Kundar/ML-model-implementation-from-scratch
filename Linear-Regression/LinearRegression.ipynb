{
  "nbformat": 4,
  "nbformat_minor": 0,
  "metadata": {
    "colab": {
      "name": "LinearRegression.ipynb",
      "provenance": [],
      "collapsed_sections": [],
      "toc_visible": true
    },
    "kernelspec": {
      "name": "python3",
      "display_name": "Python 3"
    }
  },
  "cells": [
    {
      "cell_type": "markdown",
      "metadata": {
        "id": "MbLU21isKmCQ",
        "colab_type": "text"
      },
      "source": [
        "**Implementing Linear Regression model from scratch**\n",
        "\n",
        "Data set taken from kaggle : https://www.kaggle.com/andonians/random-linear-regression"
      ]
    },
    {
      "cell_type": "markdown",
      "metadata": {
        "id": "fd9J6zvGLfTO",
        "colab_type": "text"
      },
      "source": [
        "#**Data preprocesssing**\n",
        "\n",
        "Simple data preprocessing has been carried out becuase of the nature of the data set"
      ]
    },
    {
      "cell_type": "code",
      "metadata": {
        "id": "S-0kCWIEieSb",
        "colab_type": "code",
        "colab": {}
      },
      "source": [
        "#importing necessary packages\n",
        "import numpy as np\n",
        "import pandas as pd\n",
        "import matplotlib.pyplot as plt"
      ],
      "execution_count": null,
      "outputs": []
    },
    {
      "cell_type": "code",
      "metadata": {
        "id": "6qZse69tkGkU",
        "colab_type": "code",
        "colab": {
          "base_uri": "https://localhost:8080/",
          "height": 204
        },
        "outputId": "46ebd4f0-78ed-4d2d-e3de-529d4054bdb2"
      },
      "source": [
        "#Reading training data\n",
        "data = pd.read_csv(\"train.csv\")\n",
        "data.head()"
      ],
      "execution_count": null,
      "outputs": [
        {
          "output_type": "execute_result",
          "data": {
            "text/html": [
              "<div>\n",
              "<style scoped>\n",
              "    .dataframe tbody tr th:only-of-type {\n",
              "        vertical-align: middle;\n",
              "    }\n",
              "\n",
              "    .dataframe tbody tr th {\n",
              "        vertical-align: top;\n",
              "    }\n",
              "\n",
              "    .dataframe thead th {\n",
              "        text-align: right;\n",
              "    }\n",
              "</style>\n",
              "<table border=\"1\" class=\"dataframe\">\n",
              "  <thead>\n",
              "    <tr style=\"text-align: right;\">\n",
              "      <th></th>\n",
              "      <th>x</th>\n",
              "      <th>y</th>\n",
              "    </tr>\n",
              "  </thead>\n",
              "  <tbody>\n",
              "    <tr>\n",
              "      <th>0</th>\n",
              "      <td>24.0</td>\n",
              "      <td>21.549452</td>\n",
              "    </tr>\n",
              "    <tr>\n",
              "      <th>1</th>\n",
              "      <td>50.0</td>\n",
              "      <td>47.464463</td>\n",
              "    </tr>\n",
              "    <tr>\n",
              "      <th>2</th>\n",
              "      <td>15.0</td>\n",
              "      <td>17.218656</td>\n",
              "    </tr>\n",
              "    <tr>\n",
              "      <th>3</th>\n",
              "      <td>38.0</td>\n",
              "      <td>36.586398</td>\n",
              "    </tr>\n",
              "    <tr>\n",
              "      <th>4</th>\n",
              "      <td>87.0</td>\n",
              "      <td>87.288984</td>\n",
              "    </tr>\n",
              "  </tbody>\n",
              "</table>\n",
              "</div>"
            ],
            "text/plain": [
              "      x          y\n",
              "0  24.0  21.549452\n",
              "1  50.0  47.464463\n",
              "2  15.0  17.218656\n",
              "3  38.0  36.586398\n",
              "4  87.0  87.288984"
            ]
          },
          "metadata": {
            "tags": []
          },
          "execution_count": 125
        }
      ]
    },
    {
      "cell_type": "code",
      "metadata": {
        "id": "c8ah84jSyAUK",
        "colab_type": "code",
        "colab": {
          "base_uri": "https://localhost:8080/",
          "height": 238
        },
        "outputId": "56f5c726-d876-4f44-e3e4-338d94216167"
      },
      "source": [
        "#Details of data\n",
        "data.info()\n",
        "print(\"-------------------------------------------------\")\n",
        "print(data.isnull().sum())"
      ],
      "execution_count": null,
      "outputs": [
        {
          "output_type": "stream",
          "text": [
            "<class 'pandas.core.frame.DataFrame'>\n",
            "RangeIndex: 700 entries, 0 to 699\n",
            "Data columns (total 2 columns):\n",
            " #   Column  Non-Null Count  Dtype  \n",
            "---  ------  --------------  -----  \n",
            " 0   x       700 non-null    float64\n",
            " 1   y       699 non-null    float64\n",
            "dtypes: float64(2)\n",
            "memory usage: 11.1 KB\n",
            "-------------------------------------------------\n",
            "x    0\n",
            "y    1\n",
            "dtype: int64\n"
          ],
          "name": "stdout"
        }
      ]
    },
    {
      "cell_type": "markdown",
      "metadata": {
        "id": "noFutBSnGlrK",
        "colab_type": "text"
      },
      "source": [
        "There seems to be missing data in the dependant feature"
      ]
    },
    {
      "cell_type": "code",
      "metadata": {
        "id": "ZaIauni4yYR4",
        "colab_type": "code",
        "colab": {
          "base_uri": "https://localhost:8080/",
          "height": 51
        },
        "outputId": "f7a7bb06-2258-4081-b882-ea3b8a9f4c37"
      },
      "source": [
        "#Splitting data into X and y\n",
        "X = data.iloc[:,0].values\n",
        "y = data.iloc[:,1].values\n",
        "print(X.shape, y.shape)\n",
        "\n",
        "#Reshaping data to make it a column vector\n",
        "X = X.reshape(len(X), 1)\n",
        "y = y.reshape((len(y), 1)) \n",
        "print(X.shape, y.shape)"
      ],
      "execution_count": null,
      "outputs": [
        {
          "output_type": "stream",
          "text": [
            "(700,) (700,)\n",
            "(700, 1) (700, 1)\n"
          ],
          "name": "stdout"
        }
      ]
    },
    {
      "cell_type": "code",
      "metadata": {
        "id": "91BTGYzCzYOp",
        "colab_type": "code",
        "colab": {
          "base_uri": "https://localhost:8080/",
          "height": 295
        },
        "outputId": "1687c783-1944-4c74-ba90-83e4b7248b8a"
      },
      "source": [
        "#Visualizing data\n",
        "plt.scatter(X,y,color = 'blue')\n",
        "plt.title(\"Scatter plot of data\")\n",
        "plt.xlabel(\"#\")\n",
        "plt.ylabel(\"y\")\n",
        "plt.show()"
      ],
      "execution_count": null,
      "outputs": [
        {
          "output_type": "display_data",
          "data": {
            "image/png": "[encoded data removed]",
            "text/plain": [
              "<Figure size 432x288 with 1 Axes>"
            ]
          },
          "metadata": {
            "tags": [],
            "needs_background": "light"
          }
        }
      ]
    },
    {
      "cell_type": "code",
      "metadata": {
        "id": "g7OhN8K0yF0G",
        "colab_type": "code",
        "colab": {
          "base_uri": "https://localhost:8080/",
          "height": 34
        },
        "outputId": "f395d76b-45f9-4a60-c16a-899fb5a93482"
      },
      "source": [
        "#Handling missing data\n",
        "from sklearn.impute import SimpleImputer\n",
        "imputer = SimpleImputer(missing_values=np.nan, strategy='mean')\n",
        "\n",
        "imputer.fit(y)\n",
        "y = imputer.transform(y)\n",
        "\n",
        "print(X.shape, y.shape)"
      ],
      "execution_count": null,
      "outputs": [
        {
          "output_type": "stream",
          "text": [
            "(700, 1) (700, 1)\n"
          ],
          "name": "stdout"
        }
      ]
    },
    {
      "cell_type": "code",
      "metadata": {
        "id": "Xiga4bAPzIaQ",
        "colab_type": "code",
        "colab": {
          "base_uri": "https://localhost:8080/",
          "height": 295
        },
        "outputId": "5fd42016-6745-42c7-b229-301dbffc823b"
      },
      "source": [
        "#Data after imputing\n",
        "plt.scatter(X,y,color = 'blue')\n",
        "plt.title(\"Scatter plot after imputing\")\n",
        "plt.xlabel(\"#\")\n",
        "plt.ylabel(\"y\")\n",
        "plt.show()"
      ],
      "execution_count": null,
      "outputs": [
        {
          "output_type": "display_data",
          "data": {
            "image/png": "[encoded data removed]",
            "text/plain": [
              "<Figure size 432x288 with 1 Axes>"
            ]
          },
          "metadata": {
            "tags": [],
            "needs_background": "light"
          }
        }
      ]
    },
    {
      "cell_type": "markdown",
      "metadata": {
        "id": "mR0wMOKbHMK3",
        "colab_type": "text"
      },
      "source": [
        "There seems to be an outlier. We will find number of outliers present in data:"
      ]
    },
    {
      "cell_type": "code",
      "metadata": {
        "id": "g65Roql5zD_C",
        "colab_type": "code",
        "colab": {
          "base_uri": "https://localhost:8080/",
          "height": 34
        },
        "outputId": "054c7e57-0721-4b4f-8c1f-dc8ae26608c3"
      },
      "source": [
        "#Finding index of outlier\n",
        "index = np.where(X > 150)\n",
        "print(index)"
      ],
      "execution_count": null,
      "outputs": [
        {
          "output_type": "stream",
          "text": [
            "(array([213]), array([0]))\n"
          ],
          "name": "stdout"
        }
      ]
    },
    {
      "cell_type": "markdown",
      "metadata": {
        "id": "9VSZ8R-bHdJl",
        "colab_type": "text"
      },
      "source": [
        "As there seems to be only two of them, we will remove them"
      ]
    },
    {
      "cell_type": "code",
      "metadata": {
        "id": "KYT89VRKHbrl",
        "colab_type": "code",
        "colab": {
          "base_uri": "https://localhost:8080/",
          "height": 34
        },
        "outputId": "0c9376fe-4cc9-43c1-cd6d-4159a3acc346"
      },
      "source": [
        "#Removing outlier\n",
        "X = np.delete(X, index)\n",
        "y = np.delete(y, index)\n",
        "\n",
        "X = X.reshape(len(X), 1)\n",
        "y = y.reshape((len(y), 1)) \n",
        "print(X.shape, y.shape)"
      ],
      "execution_count": null,
      "outputs": [
        {
          "output_type": "stream",
          "text": [
            "(698, 1) (698, 1)\n"
          ],
          "name": "stdout"
        }
      ]
    },
    {
      "cell_type": "code",
      "metadata": {
        "id": "1uyIHpn51Blt",
        "colab_type": "code",
        "colab": {
          "base_uri": "https://localhost:8080/",
          "height": 295
        },
        "outputId": "ef87b53c-ead5-4339-b8c5-9dd11e4c35f2"
      },
      "source": [
        "#Data after handling outlier\n",
        "plt.scatter(X,y,color = 'blue')\n",
        "plt.title(\"Scatter plot after removing outlier\")\n",
        "plt.xlabel(\"#\")\n",
        "plt.ylabel(\"y\")\n",
        "plt.show()"
      ],
      "execution_count": null,
      "outputs": [
        {
          "output_type": "display_data",
          "data": {
            "image/png": "[encoded data removed]",
            "text/plain": [
              "<Figure size 432x288 with 1 Axes>"
            ]
          },
          "metadata": {
            "tags": [],
            "needs_background": "light"
          }
        }
      ]
    },
    {
      "cell_type": "code",
      "metadata": {
        "id": "VE9JBH5rjUYK",
        "colab_type": "code",
        "colab": {
          "base_uri": "https://localhost:8080/",
          "height": 136
        },
        "outputId": "2805901c-fc7b-4bae-ccab-957e0007bbb3"
      },
      "source": [
        "#Adding bias x0\n",
        "X_new = np.concatenate((np.ones((len(X), 1), dtype=int), X), axis=1)\n",
        "print(X_new.shape, X_new)"
      ],
      "execution_count": null,
      "outputs": [
        {
          "output_type": "stream",
          "text": [
            "(698, 2) [[ 1. 50.]\n",
            " [ 1. 15.]\n",
            " [ 1. 38.]\n",
            " ...\n",
            " [ 1. 82.]\n",
            " [ 1. 66.]\n",
            " [ 1. 97.]]\n"
          ],
          "name": "stdout"
        }
      ]
    },
    {
      "cell_type": "markdown",
      "metadata": {
        "id": "ETP46x4NLvHn",
        "colab_type": "text"
      },
      "source": [
        "#**Model building**"
      ]
    },
    {
      "cell_type": "code",
      "metadata": {
        "id": "p16yoFz-lNkY",
        "colab_type": "code",
        "colab": {}
      },
      "source": [
        "#cost function\n",
        "def get_cost(m, h, y):\n",
        "    \"\"\"\n",
        "    Arguments: \n",
        "      m - size of training set\n",
        "      h - hypothesis function (X * theta)\n",
        "      y - dependent variable\n",
        "\n",
        "    Returns:\n",
        "      J - Computed cost    \n",
        "    \"\"\"\n",
        "    J = float((1/(2*m)) * sum(((h - y) ** 2)))\n",
        "    return J"
      ],
      "execution_count": null,
      "outputs": []
    },
    {
      "cell_type": "code",
      "metadata": {
        "id": "jfM9jZkol9FU",
        "colab_type": "code",
        "colab": {}
      },
      "source": [
        "#gradient descent\n",
        "def grad_func(m, X, y, theta, alpha, h):\n",
        "    \"\"\"\n",
        "    Arguments: \n",
        "      m - size of training set\n",
        "      X - Feature matrix X also containing the bias variable\n",
        "      y - dependent variable\n",
        "      theta - parameters being optimized\n",
        "      alpha - learning rate \n",
        "      h - hypothesis function (X * theta)\n",
        "\n",
        "    Returns:\n",
        "      theta - Optimized parameters    \n",
        "    \"\"\"\n",
        "\n",
        "    theta = theta - ((alpha/m) * (np.matmul((h - y).T, X))).T\n",
        "    return theta"
      ],
      "execution_count": null,
      "outputs": []
    },
    {
      "cell_type": "code",
      "metadata": {
        "id": "TDyESbwArwky",
        "colab_type": "code",
        "colab": {
          "base_uri": "https://localhost:8080/",
          "height": 295
        },
        "outputId": "7df2b22d-1606-40c5-eef8-28a1dd8b615a"
      },
      "source": [
        "#Linear Regression from scratch\n",
        "m = len(X_new)\n",
        "alpha = 0.00059 #Obatined by trial and error\n",
        "cost = []\n",
        "epochs = 200\n",
        "\n",
        "#theta initialization\n",
        "theta = np.zeros((X_new.shape[1], 1),dtype=float)\n",
        "\n",
        "for i in range(epochs):\n",
        "  h = np.matmul(X_new, theta)\n",
        "  J = get_cost(m, h, y)\n",
        "  cost.append(J)\n",
        "  theta = grad_func(m, X_new, y, theta, alpha, h)\n",
        "\n",
        "#Plotting cost function vs epochs\n",
        "plt.plot(list(range(epochs)), cost, '-r')\n",
        "plt.title(\"Cost function vs epochs\")\n",
        "plt.xlabel(\"epochs\")\n",
        "plt.ylabel(\"J - cost function\")\n",
        "plt.show()"
      ],
      "execution_count": null,
      "outputs": [
        {
          "output_type": "display_data",
          "data": {
            "image/png": "[encoded data removed]",
            "text/plain": [
              "<Figure size 432x288 with 1 Axes>"
            ]
          },
          "metadata": {
            "tags": [],
            "needs_background": "light"
          }
        }
      ]
    },
    {
      "cell_type": "code",
      "metadata": {
        "id": "glZ0mNTB352x",
        "colab_type": "code",
        "colab": {
          "base_uri": "https://localhost:8080/",
          "height": 51
        },
        "outputId": "51b778f5-f9d8-4a90-8f56-a1014f95d073"
      },
      "source": [
        "#Final theta value\n",
        "print(theta)"
      ],
      "execution_count": null,
      "outputs": [
        {
          "output_type": "stream",
          "text": [
            "[[0.01159271]\n",
            " [0.99508127]]\n"
          ],
          "name": "stdout"
        }
      ]
    },
    {
      "cell_type": "markdown",
      "metadata": {
        "id": "xReGre_KL6BO",
        "colab_type": "text"
      },
      "source": [
        "#**Results and visualization**"
      ]
    },
    {
      "cell_type": "code",
      "metadata": {
        "id": "FGc9sFhcAay0",
        "colab_type": "code",
        "colab": {
          "base_uri": "https://localhost:8080/",
          "height": 68
        },
        "outputId": "59a848e7-f8ba-4442-b56b-e1d7d999a754"
      },
      "source": [
        "#Preparing test data\n",
        "#reading test set data\n",
        "data = pd.read_csv(\"test.csv\")\n",
        "\n",
        "#splitting data\n",
        "Xt = data.iloc[:,0].values\n",
        "yt = data.iloc[:,1].values\n",
        "print(Xt.shape, yt.shape)\n",
        "\n",
        "#reshaping data\n",
        "Xt = Xt.reshape(len(Xt), 1)\n",
        "yt = yt.reshape((len(yt), 1)) \n",
        "print(Xt.shape, yt.shape)\n",
        "\n",
        "#adding bias variable\n",
        "Xt_new = np.concatenate((np.ones((len(Xt), 1), dtype=int), Xt), axis=1)\n",
        "print(Xt_new.shape, yt.shape)"
      ],
      "execution_count": null,
      "outputs": [
        {
          "output_type": "stream",
          "text": [
            "(300,) (300,)\n",
            "(300, 1) (300, 1)\n",
            "(300, 2) (300, 1)\n"
          ],
          "name": "stdout"
        }
      ]
    },
    {
      "cell_type": "code",
      "metadata": {
        "id": "mSF1PbsJAshq",
        "colab_type": "code",
        "colab": {
          "base_uri": "https://localhost:8080/",
          "height": 295
        },
        "outputId": "728ca537-62e5-45dd-dd04-e813f6293269"
      },
      "source": [
        "#Predicting results\n",
        "y_pred = np.matmul(Xt_new, theta)\n",
        "\n",
        "#Visualizing\n",
        "plt.scatter(Xt, yt, color = 'yellow')\n",
        "plt.plot(Xt, y_pred, color = 'red')\n",
        "plt.title(\"Hypothesis line on test data\")\n",
        "plt.xlabel(\"#\")\n",
        "plt.ylabel(\"y\")\n",
        "plt.show()"
      ],
      "execution_count": null,
      "outputs": [
        {
          "output_type": "display_data",
          "data": {
            "image/png": "[encoded data removed]",
            "text/plain": [
              "<Figure size 432x288 with 1 Axes>"
            ]
          },
          "metadata": {
            "tags": [],
            "needs_background": "light"
          }
        }
      ]
    },
    {
      "cell_type": "code",
      "metadata": {
        "id": "gNOFkSFSMBvO",
        "colab_type": "code",
        "colab": {
          "base_uri": "https://localhost:8080/",
          "height": 68
        },
        "outputId": "2fcb35fd-386c-4601-bc16-e20ef78152d6"
      },
      "source": [
        "#Metrics based results\n",
        "from sklearn import metrics\n",
        "\n",
        "print(\"Mean Absolute Error: \", metrics.mean_absolute_error(yt, y_pred))\n",
        "print(\"Mean Squared Error: \", metrics.mean_squared_error(yt, y_pred))\n",
        "print(\"Root Mean Squared Error: \", np.sqrt(metrics.mean_squared_error(yt, y_pred)))"
      ],
      "execution_count": null,
      "outputs": [
        {
          "output_type": "stream",
          "text": [
            "Mean Absolute Error:  2.447580597576722\n",
            "Mean Squared Error:  9.721880414297367\n",
            "Root Mean Squared Error:  3.117993010623559\n"
          ],
          "name": "stdout"
        }
      ]
    },
    {
      "cell_type": "markdown",
      "metadata": {
        "id": "3LsujWn9LVvn",
        "colab_type": "text"
      },
      "source": [
        "**THANK YOU!**"
      ]
    }
  ]
}