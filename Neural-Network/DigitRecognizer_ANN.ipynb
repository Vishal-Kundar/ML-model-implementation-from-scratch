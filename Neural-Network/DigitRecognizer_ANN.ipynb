{
 "cells": [
  {
   "cell_type": "markdown",
   "metadata": {
    "colab_type": "text",
    "id": "yNo1J34ZOKE0"
   },
   "source": [
    "**Implemeting ANN digit recognizer from scratch**\n",
    "\n",
    "We will be using the popular MNSIT dataset here. \n",
    "\n",
    "Link: https://www.kaggle.com/sylvia23/mnist-data-for-digit-recognation"
   ]
  },
  {
   "cell_type": "code",
   "execution_count": 72,
   "metadata": {
    "colab": {},
    "colab_type": "code",
    "id": "kPmOk4qVQTM1"
   },
   "outputs": [],
   "source": [
    "#importing necessary packages\n",
    "import idx2numpy\n",
    "import numpy as np\n",
    "import matplotlib.pyplot as plt"
   ]
  },
  {
   "cell_type": "code",
   "execution_count": 147,
   "metadata": {
    "colab": {
     "base_uri": "https://localhost:8080/",
     "height": 34
    },
    "colab_type": "code",
    "id": "dBHKMINYOAbz",
    "outputId": "2fb5ff87-1434-4d08-91b9-b3fa943da496"
   },
   "outputs": [
    {
     "name": "stdout",
     "output_type": "stream",
     "text": [
      "X-train : (60000, 28, 28) Y-train:  (60000,)\n"
     ]
    }
   ],
   "source": [
    "#Importing training dataset\n",
    "X_train = idx2numpy.convert_from_file('C:/Users/Vishal/Downloads/7666_10873_bundle_archive/train-images.idx3-ubyte')\n",
    "y_train = idx2numpy.convert_from_file('C:/Users/Vishal/Downloads/7666_10873_bundle_archive/train-labels.idx1-ubyte')\n",
    "\n",
    "#Dimensions\n",
    "print(\"X-train :\", X_train.shape, \"Y-train: \",y_train.shape)"
   ]
  },
  {
   "cell_type": "code",
   "execution_count": 148,
   "metadata": {
    "colab": {
     "base_uri": "https://localhost:8080/",
     "height": 268
    },
    "colab_type": "code",
    "id": "3yMdE_0KTl4-",
    "outputId": "e02322cb-0495-4af3-d9f0-017f24fdc9ea"
   },
   "outputs": [
    {
     "data": {
      "image/png": "[encoded data removed]",
      "text/plain": [
       "<Figure size 432x288 with 9 Axes>"
      ]
     },
     "metadata": {
      "needs_background": "light"
     },
     "output_type": "display_data"
    }
   ],
   "source": [
    "#Displaying few images\n",
    "#Each image is 28 * 28 pixel image\n",
    "plt.figure(figsize=(6,4))\n",
    "\n",
    "for i in range(9):\n",
    "  plt.subplot(3,3,i + 1)\n",
    "  plt.imshow(X_train[i])\n",
    "\n",
    "plt.show()"
   ]
  },
  {
   "cell_type": "code",
   "execution_count": 149,
   "metadata": {
    "colab": {
     "base_uri": "https://localhost:8080/",
     "height": 34
    },
    "colab_type": "code",
    "id": "l5CdMT5BRejr",
    "outputId": "4923bd68-1de3-4e82-d7b0-b22e0fda0e6d"
   },
   "outputs": [
    {
     "name": "stdout",
     "output_type": "stream",
     "text": [
      "X-train : (60000, 784) Y-train:  (1, 60000)\n"
     ]
    }
   ],
   "source": [
    "#Reshaping\n",
    "X_train = X_train.reshape(X_train.shape[0], -1)\n",
    "y_train = y_train.reshape(len(y_train), 1).T\n",
    "print(\"X-train :\", X_train.shape, \"Y-train: \",y_train.shape)"
   ]
  },
  {
   "cell_type": "code",
   "execution_count": 150,
   "metadata": {
    "colab": {},
    "colab_type": "code",
    "id": "-5KXA9-GOpPJ"
   },
   "outputs": [
    {
     "name": "stdout",
     "output_type": "stream",
     "text": [
      "(60000, 784)\n"
     ]
    }
   ],
   "source": [
    "#Feature scaling\n",
    "from sklearn.preprocessing import StandardScaler\n",
    "scaler = StandardScaler()\n",
    "X_train = scaler.fit_transform(X_train)\n",
    "print(X_train.shape)"
   ]
  },
  {
   "cell_type": "code",
   "execution_count": 139,
   "metadata": {},
   "outputs": [],
   "source": [
    "#Transposing matrix X\n",
    "X_train = X_train.reshape(X_train.shape[0], -1).T"
   ]
  },
  {
   "cell_type": "markdown",
   "metadata": {
    "colab_type": "text",
    "id": "VEjm1jW5QKbT"
   },
   "source": [
    "The output layer will be 10 units. The unit with the highest value is our predicted digit. \n",
    "\n",
    "Now we need to reshape y accordingly"
   ]
  },
  {
   "cell_type": "code",
   "execution_count": 67,
   "metadata": {
    "colab": {
     "base_uri": "https://localhost:8080/",
     "height": 34
    },
    "colab_type": "code",
    "id": "MFAOq6srPKmA",
    "outputId": "5da3a0d0-c428-41ae-eff0-4480277904d9"
   },
   "outputs": [
    {
     "name": "stdout",
     "output_type": "stream",
     "text": [
      "(10, 60000)\n"
     ]
    }
   ],
   "source": [
    "#Reshaping Y_train\n",
    "Y_train = np.zeros((10,y_train.shape[1]))\n",
    "for i in range(y_train.shape[1]):\n",
    "    Y_train[y_train[0,i],i]=1 #The respective position in the column is marked 1\n",
    "\n",
    "print(Y_train.shape)    "
   ]
  },
  {
   "cell_type": "markdown",
   "metadata": {
    "colab_type": "text",
    "id": "yODB1QNOThLq"
   },
   "source": [
    "Alright now lets build our neural network"
   ]
  },
  {
   "cell_type": "code",
   "execution_count": 15,
   "metadata": {
    "colab": {},
    "colab_type": "code",
    "id": "TPsYVnDhZ_EU"
   },
   "outputs": [],
   "source": [
    "def sigmoid(X):\n",
    "  res = 1 / (1 + np.exp(-X))\n",
    "  return res"
   ]
  },
  {
   "cell_type": "code",
   "execution_count": 16,
   "metadata": {
    "colab": {},
    "colab_type": "code",
    "id": "-rWWovC3VTns"
   },
   "outputs": [],
   "source": [
    "def initialize_parameters(input_layer, hidden_layer_1, hidden_layer_2, hidden_layer_3, output_layer):\n",
    "  \n",
    "  #Weights and biases between input layer and hidden layer 1 \n",
    "  W1 = np.random.randn(hidden_layer_1, input_layer) * 0.01\n",
    "  b1 = np.zeros((hidden_layer_1, 1))\n",
    "\n",
    "  #Weights and biases between hidden layer 1 and hidden layer 2 \n",
    "  W2 = np.random.randn(hidden_layer_2, hidden_layer_1) * 0.01\n",
    "  b2 = np.zeros((hidden_layer_2, 1))\n",
    "  \n",
    "  #Weights and biases between hidden layer 1 and hidden layer 2 \n",
    "  W3 = np.random.randn(hidden_layer_3, hidden_layer_2) * 0.01\n",
    "  b3 = np.zeros((hidden_layer_3, 1))\n",
    "\n",
    "  #Weights and biases between hidden layer 3 and output layer \n",
    "  W4 = np.random.randn(output_layer, hidden_layer_3) * 0.01\n",
    "  b4 = np.zeros((output_layer, 1))\n",
    "\n",
    "  Weights = {\"W1\" : W1, \"b1\" : b1, \"W2\" : W2, \"b2\" : b2, \"W3\" : W3, \"b3\" : b3, \"W4\" : W4, \"b4\" : b4}\n",
    "  return Weights"
   ]
  },
  {
   "cell_type": "code",
   "execution_count": 17,
   "metadata": {
    "colab": {},
    "colab_type": "code",
    "id": "O7kjqBVYYB48"
   },
   "outputs": [],
   "source": [
    "def Forward_prop(X, Weights):\n",
    "\n",
    "  #Extracting weights and biases\n",
    "  W1 = Weights[\"W1\"]\n",
    "  W2 = Weights[\"W2\"]\n",
    "  W3 = Weights[\"W3\"]\n",
    "  W4 = Weights[\"W4\"]\n",
    "\n",
    "  b1 = Weights[\"b1\"]\n",
    "  b2 = Weights[\"b2\"]\n",
    "  b3 = Weights[\"b3\"]\n",
    "  b4 = Weights[\"b4\"]\n",
    "\n",
    "  #Forward propagation - We will be using tanh as activation for hidden layer \n",
    "  #and sigmoid for output_layer\n",
    "  Z1 = np.matmul(W1, X) + b1\n",
    "  A1 = np.tanh(Z1)\n",
    "\n",
    "  Z2 = np.matmul(W2, A1) + b2\n",
    "  A2 = np.tanh(Z2)\n",
    "\n",
    "  Z3 = np.matmul(W3, A2) + b3\n",
    "  A3 = np.tanh(Z3)\n",
    "  \n",
    "  Z4 = np.matmul(W4, A3) + b4\n",
    "  A4 = sigmoid(Z4) #Our Y_hat or predicted value\n",
    "\n",
    "  Units = {\"Z1\" : Z1, \"A1\" : A1, \"Z2\" : Z2, \"A2\" : A2, \"Z3\" : Z3, \"A3\" : A3, \"Z4\" : Z4, \"A4\" : A4}\n",
    "  return Units"
   ]
  },
  {
   "cell_type": "code",
   "execution_count": 18,
   "metadata": {
    "colab": {},
    "colab_type": "code",
    "id": "G8xYN504bVEL"
   },
   "outputs": [],
   "source": [
    "def cost_compute(Units, y, m):\n",
    "\n",
    "  #Extracting Y_hat from Units\n",
    "  A4 = Units[\"A4\"]\n",
    "\n",
    "  #The cost function is the same as the one we used for logistic regression\n",
    "  J = (np.sum((-y * np.log(A4)) - ((1 - y) * (np.log(1 - A4)))) / m)\n",
    "\n",
    "  return J"
   ]
  },
  {
   "cell_type": "code",
   "execution_count": 19,
   "metadata": {
    "colab": {},
    "colab_type": "code",
    "id": "0wo0eD4tdMNt"
   },
   "outputs": [],
   "source": [
    "def Back_prop(Weights, Units, X, Y):\n",
    "\n",
    "  #Extracting Weights\n",
    "  W1 = Weights[\"W1\"]\n",
    "  W2 = Weights[\"W2\"]\n",
    "  W3 = Weights[\"W3\"]\n",
    "  W4 = Weights[\"W4\"]\n",
    "\n",
    "  #Extracting units\n",
    "  A1 = Units[\"A1\"]\n",
    "  A2 = Units[\"A2\"]\n",
    "  A3 = Units[\"A3\"]\n",
    "  A4 = Units[\"A4\"]\n",
    "\n",
    "  #Back propagation\n",
    "  dz4 = A4 - Y\n",
    "  dw4 = (1/m) * np.matmul(dz4, A3.T)\n",
    "  db4 = (1/m) * np.sum(dz4, axis = 1, keepdims = True)\n",
    "\n",
    "  dz3 = np.multiply(np.matmul(W4.T, dz4), 1 - np.power(A3,2)) # derivative of tanh(Z) = 1-A^2\n",
    "  dw3 = (1/m) * np.matmul(dz3, A2.T)\n",
    "  db3 = (1/m) * np.sum(dz3, axis = 1, keepdims = True)\n",
    "  \n",
    "  dz2 = np.multiply(np.matmul(W3.T, dz3), 1 - np.power(A2,2))\n",
    "  dw2 = (1/m) * np.matmul(dz2, A1.T)\n",
    "  db2 = (1/m) * np.sum(dz2, axis = 1, keepdims = True)\n",
    "\n",
    "  dz1 = np.multiply(np.matmul(W2.T, dz2), 1 - np.power(A1,2))\n",
    "  dw1 = (1/m) * np.matmul(dz1, X.T)\n",
    "  db1 = (1/m) * np.sum(dz1, axis = 1, keepdims = True)\n",
    "\n",
    "  Grads = {\"dw1\" : dw1, \"db1\" : db1, \"dw2\" : dw2, \"db2\" : db2, \"dw3\" : dw3, \"db3\" : db3, \"dw4\" : dw4, \"db4\" : db4}\n",
    "  return Grads"
   ]
  },
  {
   "cell_type": "code",
   "execution_count": 20,
   "metadata": {
    "colab": {},
    "colab_type": "code",
    "id": "K8wgmRWRi3KN"
   },
   "outputs": [],
   "source": [
    "def Update_Weights(Weights, Grads, alpha):\n",
    "  \n",
    "  #Extracting weights and biases\n",
    "  W1 = Weights[\"W1\"]\n",
    "  W2 = Weights[\"W2\"]\n",
    "  W3 = Weights[\"W3\"]\n",
    "  W4 = Weights[\"W4\"]\n",
    "\n",
    "  b1 = Weights[\"b1\"]\n",
    "  b2 = Weights[\"b2\"]\n",
    "  b3 = Weights[\"b3\"]\n",
    "  b4 = Weights[\"b4\"]\n",
    "\n",
    "  #Extracting grads\n",
    "  dw1 = Grads[\"dw1\"]\n",
    "  dw2 = Grads[\"dw2\"]\n",
    "  dw3 = Grads[\"dw3\"]\n",
    "  dw4 = Grads[\"dw4\"]\n",
    "\n",
    "  db1 = Grads[\"db1\"]\n",
    "  db2 = Grads[\"db2\"]\n",
    "  db3 = Grads[\"db3\"]\n",
    "  db4 = Grads[\"db4\"]\n",
    "\n",
    "  #Updating weights and biases\n",
    "  W1 = W1 - alpha * dw1\n",
    "  W2 = W2 - alpha * dw2\n",
    "  W3 = W3 - alpha * dw3\n",
    "  W4 = W4 - alpha * dw4\n",
    "\n",
    "  b1 = b1 - alpha * db1\n",
    "  b2 = b2 - alpha * db2\n",
    "  b3 = b3 - alpha * db3\n",
    "  b4 = b4 - alpha * db4\n",
    "\n",
    "  Weights = {\"W1\" : W1, \"b1\" : b1, \"W2\" : W2, \"b2\" : b2, \"W3\" : W3, \"b3\" : b3, \"W4\" : W4, \"b4\" : b4}\n",
    "  return Weights"
   ]
  },
  {
   "cell_type": "code",
   "execution_count": 24,
   "metadata": {
    "colab": {
     "base_uri": "https://localhost:8080/",
     "height": 374
    },
    "colab_type": "code",
    "id": "j-2KmkWLRlpJ",
    "outputId": "05003e13-5f0c-44af-8078-bc4380ca2fa7"
   },
   "outputs": [
    {
     "name": "stdout",
     "output_type": "stream",
     "text": [
      "Cost after Iter : 0 Cost : 6.931449978461073\n",
      "Cost after Iter : 2500 Cost : 3.2492827825233954\n",
      "Cost after Iter : 5000 Cost : 3.248359769122685\n",
      "Cost after Iter : 7500 Cost : 3.082672893602663\n",
      "Cost after Iter : 10000 Cost : 2.5186872971924243\n",
      "Cost after Iter : 12500 Cost : 1.8540482075359979\n",
      "Cost after Iter : 15000 Cost : 1.134509519984566\n",
      "Cost after Iter : 17500 Cost : 0.6088605885387313\n",
      "Cost after Iter : 20000 Cost : 0.39371913672226005\n",
      "Cost after Iter : 22500 Cost : 0.2863102972874991\n",
      "Cost after Iter : 25000 Cost : 0.2199537526097359\n",
      "Cost after Iter : 27500 Cost : 0.17596419897510268\n",
      "Cost after Iter : 30000 Cost : 0.1448292777032391\n",
      "Cost after Iter : 32500 Cost : 0.12207828758182901\n",
      "Cost after Iter : 35000 Cost : 0.10522672769662604\n",
      "Cost after Iter : 37500 Cost : 0.09214973063242202\n",
      "Cost after Iter : 40000 Cost : 0.08166006832496166\n",
      "Cost after Iter : 42500 Cost : 0.07323848999645997\n",
      "Cost after Iter : 45000 Cost : 0.06607847149983695\n",
      "Cost after Iter : 47500 Cost : 0.06028018901766153\n"
     ]
    },
    {
     "data": {
      "image/png": "[encoded data removed]",
      "text/plain": [
       "<Figure size 432x288 with 1 Axes>"
      ]
     },
     "metadata": {
      "needs_background": "light"
     },
     "output_type": "display_data"
    }
   ],
   "source": [
    "# ANN implementation\n",
    "input_layer = X_train.shape[0]\n",
    "hidden_layer_1 = 60\n",
    "hidden_layer_2 = 20\n",
    "hidden_layer_3 = 20\n",
    "output_layer = Y_train.shape[0]\n",
    "\n",
    "epochs = 50000\n",
    "m = X_train.shape[1]\n",
    "alpha = 0.01\n",
    "\n",
    "#Dictionary containing the weights of the different layers\n",
    "Weights = initialize_parameters(input_layer, hidden_layer_1, hidden_layer_2, hidden_layer_3, output_layer)\n",
    "\n",
    "#Storing cost history for plotting purposes\n",
    "J_hist = []\n",
    "\n",
    "#Gradient descent\n",
    "for i in range(epochs):\n",
    "  Units = Forward_prop(X_train, Weights)\n",
    "\n",
    "  J = cost_compute(Units, Y_train, m)\n",
    "  J_hist.append(J)\n",
    "\n",
    "  Grads = Back_prop(Weights, Units, X_train, Y_train)  \n",
    "\n",
    "  Weights = Update_Weights(Weights, Grads, alpha)\n",
    "  if i % 2500 == 0:\n",
    "    print(\"Cost after Iter :\", i, \"Cost :\", J)\n",
    "\n",
    "#Plotting cost vs epochs\n",
    "plt.plot(list(range(epochs)), J_hist, color = 'red')\n",
    "plt.title(\"Cost function vs epochs\")\n",
    "plt.xlabel(\"epochs\")\n",
    "plt.ylabel(\"J - cost function\")\n",
    "plt.show()"
   ]
  },
  {
   "cell_type": "markdown",
   "metadata": {
    "colab_type": "text",
    "id": "R9tJKasx3Ijt"
   },
   "source": [
    "Alright now lets prepare our test set"
   ]
  },
  {
   "cell_type": "code",
   "execution_count": 151,
   "metadata": {
    "colab": {},
    "colab_type": "code",
    "id": "AtHpyvP63HA4"
   },
   "outputs": [
    {
     "name": "stdout",
     "output_type": "stream",
     "text": [
      "X-test : (10000, 784) Y-test:  (1, 10000)\n"
     ]
    }
   ],
   "source": [
    "#Importing training dataset\n",
    "X_test = idx2numpy.convert_from_file('C:/Users/Vishal/Downloads/7666_10873_bundle_archive/t10k-images.idx3-ubyte')\n",
    "y_test = idx2numpy.convert_from_file('C:/Users/Vishal/Downloads/7666_10873_bundle_archive/t10k-labels.idx1-ubyte')\n",
    "\n",
    "#Reshaping\n",
    "X_test = X_test.reshape(X_test.shape[0], -1)\n",
    "y_test = y_test.reshape(len(y_test), 1).T\n",
    "\n",
    "#Feature scaling\n",
    "X_test = scaler.transform(X_test)\n",
    "\n",
    "print(\"X-test :\", X_test.shape, \"Y-test: \",y_test.shape)"
   ]
  },
  {
   "cell_type": "code",
   "execution_count": 152,
   "metadata": {},
   "outputs": [
    {
     "name": "stdout",
     "output_type": "stream",
     "text": [
      "X-test : (784, 10000)\n"
     ]
    }
   ],
   "source": [
    "#Transposing matrix X_test\n",
    "X_test = X_test.reshape(X_test.shape[0], -1).T\n",
    "print(\"X-test :\", X_test.shape)"
   ]
  },
  {
   "cell_type": "code",
   "execution_count": 158,
   "metadata": {},
   "outputs": [
    {
     "name": "stdout",
     "output_type": "stream",
     "text": [
      "(10, 10000)\n"
     ]
    }
   ],
   "source": [
    "#Reshaping Y_test\n",
    "Y_test = np.zeros((10,y_test.shape[1]))\n",
    "for i in range(y_test.shape[1]):\n",
    "    Y_test[y_test[0,i],i]=1 #The respective position in the column is marked 1\n",
    "\n",
    "print(Y_test.shape) "
   ]
  },
  {
   "cell_type": "code",
   "execution_count": 118,
   "metadata": {},
   "outputs": [],
   "source": [
    "def predict(X, Weights):\n",
    "    \n",
    "  #Calling forward propagation and getting y_pred\n",
    "  finalUnits = Forward_prop(X, Weights)\n",
    "  y_pred = finalUnits[\"A4\"]\n",
    "\n",
    "  #Obtaining index (= digit) with highest value\n",
    "  Y_pred = np.argmax(y_pred, axis = 0)\n",
    "  Y_pred.reshape(1, Y_pred.shape[0])\n",
    "    \n",
    "  return Y_pred "
   ]
  },
  {
   "cell_type": "code",
   "execution_count": 162,
   "metadata": {},
   "outputs": [
    {
     "name": "stdout",
     "output_type": "stream",
     "text": [
      "(10, 10000) (10, 10000)\n",
      "Accuracy : 92.122 %\n"
     ]
    }
   ],
   "source": [
    "#Test set accuracy\n",
    "#Lets get our predictions\n",
    "y_pred = predict(X_test, Weights)\n",
    "y_pred = y_pred.reshape(len(y_pred), 1).T\n",
    "\n",
    "#Reshaping Y_pred\n",
    "Y_pred = np.zeros((10,y_pred.shape[1]))\n",
    "for i in range(y_pred.shape[1]):\n",
    "    Y_pred[y_pred[0,i],i]=1 #The respective position in the column is marked 1\n",
    "    \n",
    "print(Y_pred.shape, Y_test.shape)\n",
    "\n",
    "#Accuracy\n",
    "score = (np.sum(Y_test == Y_pred) / 100000) * 100\n",
    "print(\"Accuracy :\", score, \"%\")"
   ]
  },
  {
   "cell_type": "code",
   "execution_count": 134,
   "metadata": {
    "colab": {},
    "colab_type": "code",
    "id": "dtuiMzqC7rqP"
   },
   "outputs": [
    {
     "data": {
      "image/png": "[encoded data removed]",
      "text/plain": [
       "<Figure size 432x288 with 1 Axes>"
      ]
     },
     "metadata": {
      "needs_background": "light"
     },
     "output_type": "display_data"
    },
    {
     "name": "stdout",
     "output_type": "stream",
     "text": [
      "Predicted digit is : [7]\n",
      "True digit is: [7]\n"
     ]
    },
    {
     "data": {
      "image/png": "[encoded data removed]",
      "text/plain": [
       "<Figure size 432x288 with 1 Axes>"
      ]
     },
     "metadata": {
      "needs_background": "light"
     },
     "output_type": "display_data"
    },
    {
     "name": "stdout",
     "output_type": "stream",
     "text": [
      "Predicted digit is : [2]\n",
      "True digit is: [2]\n"
     ]
    },
    {
     "data": {
      "image/png": "[encoded data removed]",
      "text/plain": [
       "<Figure size 432x288 with 1 Axes>"
      ]
     },
     "metadata": {
      "needs_background": "light"
     },
     "output_type": "display_data"
    },
    {
     "name": "stdout",
     "output_type": "stream",
     "text": [
      "Predicted digit is : [1]\n",
      "True digit is: [1]\n"
     ]
    },
    {
     "data": {
      "image/png": "[encoded data removed]",
      "text/plain": [
       "<Figure size 432x288 with 1 Axes>"
      ]
     },
     "metadata": {
      "needs_background": "light"
     },
     "output_type": "display_data"
    },
    {
     "name": "stdout",
     "output_type": "stream",
     "text": [
      "Predicted digit is : [0]\n",
      "True digit is: [0]\n"
     ]
    },
    {
     "data": {
      "image/png": "[encoded data removed]",
      "text/plain": [
       "<Figure size 432x288 with 1 Axes>"
      ]
     },
     "metadata": {
      "needs_background": "light"
     },
     "output_type": "display_data"
    },
    {
     "name": "stdout",
     "output_type": "stream",
     "text": [
      "Predicted digit is : [4]\n",
      "True digit is: [4]\n"
     ]
    }
   ],
   "source": [
    "#Showcasing some results\n",
    "X_test = idx2numpy.convert_from_file('C:/Users/Vishal/Downloads/7666_10873_bundle_archive/t10k-images.idx3-ubyte')\n",
    "\n",
    "for i in range(5):\n",
    "    img = X_test[i].reshape((784,1)).T\n",
    "    img = scaler.transform(img)\n",
    "    img = img.T\n",
    "    \n",
    "    plt.imshow(X_test[i])\n",
    "    plt.show()\n",
    "    \n",
    "    predicted_digit = predict(img, Weights)\n",
    "    print('Predicted digit is : '+str(predicted_digit))\n",
    "    print('True digit is: '+ str(np.where(Y_test[:,i] == 1)[0]))"
   ]
  },
  {
   "cell_type": "code",
   "execution_count": null,
   "metadata": {},
   "outputs": [],
   "source": []
  }
 ],
 "metadata": {
  "colab": {
   "collapsed_sections": [],
   "name": "DigitRecognizer_ANN.ipynb",
   "provenance": []
  },
  "kernelspec": {
   "display_name": "Python 3",
   "language": "python",
   "name": "python3"
  },
  "language_info": {
   "codemirror_mode": {
    "name": "ipython",
    "version": 3
   },
   "file_extension": ".py",
   "mimetype": "text/x-python",
   "name": "python",
   "nbconvert_exporter": "python",
   "pygments_lexer": "ipython3",
   "version": "3.7.3"
  }
 },
 "nbformat": 4,
 "nbformat_minor": 1
}
