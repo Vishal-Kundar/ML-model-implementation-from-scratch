{
  "nbformat": 4,
  "nbformat_minor": 0,
  "metadata": {
    "colab": {
      "name": "ChurnModelling.ipynb",
      "provenance": []
    },
    "kernelspec": {
      "name": "python3",
      "display_name": "Python 3"
    }
  },
  "cells": [
    {
      "cell_type": "markdown",
      "metadata": {
        "id": "1DAdVzpv3RSG"
      },
      "source": [
        "#Data preprocessing - Vishal"
      ]
    },
    {
      "cell_type": "code",
      "metadata": {
        "id": "Uzc70kUwwylz"
      },
      "source": [
        "import pandas as pd\n",
        "import numpy as np\n",
        "import matplotlib.pyplot as plt"
      ],
      "execution_count": 1,
      "outputs": []
    },
    {
      "cell_type": "code",
      "metadata": {
        "colab": {
          "base_uri": "https://localhost:8080/",
          "height": 224
        },
        "id": "gOmsUz-sw8oE",
        "outputId": "5b3e7cce-2aed-4e14-e3a9-2e2e77a6ac48"
      },
      "source": [
        "#Read the data\n",
        "data = pd.read_csv(\"Churn_Modelling.csv\")\n",
        "data.head()"
      ],
      "execution_count": 102,
      "outputs": [
        {
          "output_type": "execute_result",
          "data": {
            "text/html": [
              "<div>\n",
              "<style scoped>\n",
              "    .dataframe tbody tr th:only-of-type {\n",
              "        vertical-align: middle;\n",
              "    }\n",
              "\n",
              "    .dataframe tbody tr th {\n",
              "        vertical-align: top;\n",
              "    }\n",
              "\n",
              "    .dataframe thead th {\n",
              "        text-align: right;\n",
              "    }\n",
              "</style>\n",
              "<table border=\"1\" class=\"dataframe\">\n",
              "  <thead>\n",
              "    <tr style=\"text-align: right;\">\n",
              "      <th></th>\n",
              "      <th>RowNumber</th>\n",
              "      <th>CustomerId</th>\n",
              "      <th>Surname</th>\n",
              "      <th>CreditScore</th>\n",
              "      <th>Geography</th>\n",
              "      <th>Gender</th>\n",
              "      <th>Age</th>\n",
              "      <th>Tenure</th>\n",
              "      <th>Balance</th>\n",
              "      <th>NumOfProducts</th>\n",
              "      <th>HasCrCard</th>\n",
              "      <th>IsActiveMember</th>\n",
              "      <th>EstimatedSalary</th>\n",
              "      <th>Exited</th>\n",
              "    </tr>\n",
              "  </thead>\n",
              "  <tbody>\n",
              "    <tr>\n",
              "      <th>0</th>\n",
              "      <td>1</td>\n",
              "      <td>15634602</td>\n",
              "      <td>Hargrave</td>\n",
              "      <td>619</td>\n",
              "      <td>France</td>\n",
              "      <td>Female</td>\n",
              "      <td>42</td>\n",
              "      <td>2</td>\n",
              "      <td>0.00</td>\n",
              "      <td>1</td>\n",
              "      <td>1</td>\n",
              "      <td>1</td>\n",
              "      <td>101348.88</td>\n",
              "      <td>1</td>\n",
              "    </tr>\n",
              "    <tr>\n",
              "      <th>1</th>\n",
              "      <td>2</td>\n",
              "      <td>15647311</td>\n",
              "      <td>Hill</td>\n",
              "      <td>608</td>\n",
              "      <td>Spain</td>\n",
              "      <td>Female</td>\n",
              "      <td>41</td>\n",
              "      <td>1</td>\n",
              "      <td>83807.86</td>\n",
              "      <td>1</td>\n",
              "      <td>0</td>\n",
              "      <td>1</td>\n",
              "      <td>112542.58</td>\n",
              "      <td>0</td>\n",
              "    </tr>\n",
              "    <tr>\n",
              "      <th>2</th>\n",
              "      <td>3</td>\n",
              "      <td>15619304</td>\n",
              "      <td>Onio</td>\n",
              "      <td>502</td>\n",
              "      <td>France</td>\n",
              "      <td>Female</td>\n",
              "      <td>42</td>\n",
              "      <td>8</td>\n",
              "      <td>159660.80</td>\n",
              "      <td>3</td>\n",
              "      <td>1</td>\n",
              "      <td>0</td>\n",
              "      <td>113931.57</td>\n",
              "      <td>1</td>\n",
              "    </tr>\n",
              "    <tr>\n",
              "      <th>3</th>\n",
              "      <td>4</td>\n",
              "      <td>15701354</td>\n",
              "      <td>Boni</td>\n",
              "      <td>699</td>\n",
              "      <td>France</td>\n",
              "      <td>Female</td>\n",
              "      <td>39</td>\n",
              "      <td>1</td>\n",
              "      <td>0.00</td>\n",
              "      <td>2</td>\n",
              "      <td>0</td>\n",
              "      <td>0</td>\n",
              "      <td>93826.63</td>\n",
              "      <td>0</td>\n",
              "    </tr>\n",
              "    <tr>\n",
              "      <th>4</th>\n",
              "      <td>5</td>\n",
              "      <td>15737888</td>\n",
              "      <td>Mitchell</td>\n",
              "      <td>850</td>\n",
              "      <td>Spain</td>\n",
              "      <td>Female</td>\n",
              "      <td>43</td>\n",
              "      <td>2</td>\n",
              "      <td>125510.82</td>\n",
              "      <td>1</td>\n",
              "      <td>1</td>\n",
              "      <td>1</td>\n",
              "      <td>79084.10</td>\n",
              "      <td>0</td>\n",
              "    </tr>\n",
              "  </tbody>\n",
              "</table>\n",
              "</div>"
            ],
            "text/plain": [
              "   RowNumber  CustomerId   Surname  ...  IsActiveMember EstimatedSalary Exited\n",
              "0          1    15634602  Hargrave  ...               1       101348.88      1\n",
              "1          2    15647311      Hill  ...               1       112542.58      0\n",
              "2          3    15619304      Onio  ...               0       113931.57      1\n",
              "3          4    15701354      Boni  ...               0        93826.63      0\n",
              "4          5    15737888  Mitchell  ...               1        79084.10      0\n",
              "\n",
              "[5 rows x 14 columns]"
            ]
          },
          "metadata": {
            "tags": []
          },
          "execution_count": 102
        }
      ]
    },
    {
      "cell_type": "code",
      "metadata": {
        "colab": {
          "base_uri": "https://localhost:8080/"
        },
        "id": "NumXZxh9xCKC",
        "outputId": "b5467dbd-f6d2-46cf-be5f-6fb4080af632"
      },
      "source": [
        "data.info()"
      ],
      "execution_count": 103,
      "outputs": [
        {
          "output_type": "stream",
          "text": [
            "<class 'pandas.core.frame.DataFrame'>\n",
            "RangeIndex: 10000 entries, 0 to 9999\n",
            "Data columns (total 14 columns):\n",
            " #   Column           Non-Null Count  Dtype  \n",
            "---  ------           --------------  -----  \n",
            " 0   RowNumber        10000 non-null  int64  \n",
            " 1   CustomerId       10000 non-null  int64  \n",
            " 2   Surname          10000 non-null  object \n",
            " 3   CreditScore      10000 non-null  int64  \n",
            " 4   Geography        10000 non-null  object \n",
            " 5   Gender           10000 non-null  object \n",
            " 6   Age              10000 non-null  int64  \n",
            " 7   Tenure           10000 non-null  int64  \n",
            " 8   Balance          10000 non-null  float64\n",
            " 9   NumOfProducts    10000 non-null  int64  \n",
            " 10  HasCrCard        10000 non-null  int64  \n",
            " 11  IsActiveMember   10000 non-null  int64  \n",
            " 12  EstimatedSalary  10000 non-null  float64\n",
            " 13  Exited           10000 non-null  int64  \n",
            "dtypes: float64(2), int64(9), object(3)\n",
            "memory usage: 1.1+ MB\n"
          ],
          "name": "stdout"
        }
      ]
    },
    {
      "cell_type": "code",
      "metadata": {
        "id": "_tLgtPXqxwYT"
      },
      "source": [
        "#Dropping irrelavent columns\n",
        "data.drop([\"RowNumber\", \"CustomerId\", \"Surname\"], axis = 1, inplace = True)"
      ],
      "execution_count": 104,
      "outputs": []
    },
    {
      "cell_type": "code",
      "metadata": {
        "colab": {
          "base_uri": "https://localhost:8080/"
        },
        "id": "KFBScdv9yPVr",
        "outputId": "47a34352-7192-4f2e-dafe-7410b2244874"
      },
      "source": [
        "data.info()"
      ],
      "execution_count": 105,
      "outputs": [
        {
          "output_type": "stream",
          "text": [
            "<class 'pandas.core.frame.DataFrame'>\n",
            "RangeIndex: 10000 entries, 0 to 9999\n",
            "Data columns (total 11 columns):\n",
            " #   Column           Non-Null Count  Dtype  \n",
            "---  ------           --------------  -----  \n",
            " 0   CreditScore      10000 non-null  int64  \n",
            " 1   Geography        10000 non-null  object \n",
            " 2   Gender           10000 non-null  object \n",
            " 3   Age              10000 non-null  int64  \n",
            " 4   Tenure           10000 non-null  int64  \n",
            " 5   Balance          10000 non-null  float64\n",
            " 6   NumOfProducts    10000 non-null  int64  \n",
            " 7   HasCrCard        10000 non-null  int64  \n",
            " 8   IsActiveMember   10000 non-null  int64  \n",
            " 9   EstimatedSalary  10000 non-null  float64\n",
            " 10  Exited           10000 non-null  int64  \n",
            "dtypes: float64(2), int64(7), object(2)\n",
            "memory usage: 859.5+ KB\n"
          ],
          "name": "stdout"
        }
      ]
    },
    {
      "cell_type": "code",
      "metadata": {
        "colab": {
          "base_uri": "https://localhost:8080/",
          "height": 224
        },
        "id": "OEsXFL-40VFL",
        "outputId": "e850954e-b86d-42d2-ee59-5da7c8e18073"
      },
      "source": [
        "#Dummy variable\n",
        "sig_cat_col = ['Geography', 'Gender']\n",
        "\n",
        "dummies = pd.get_dummies(data[sig_cat_col], drop_first = True)\n",
        "dummies.shape\n",
        "\n",
        "#Add the results to the original dataframe\n",
        "data = pd.concat([data, dummies], axis = 1)\n",
        "\n",
        "# Drop the original cat variables as dummies are already created\n",
        "data.drop( sig_cat_col, axis = 1, inplace = True)\n",
        "data.head()"
      ],
      "execution_count": 106,
      "outputs": [
        {
          "output_type": "execute_result",
          "data": {
            "text/html": [
              "<div>\n",
              "<style scoped>\n",
              "    .dataframe tbody tr th:only-of-type {\n",
              "        vertical-align: middle;\n",
              "    }\n",
              "\n",
              "    .dataframe tbody tr th {\n",
              "        vertical-align: top;\n",
              "    }\n",
              "\n",
              "    .dataframe thead th {\n",
              "        text-align: right;\n",
              "    }\n",
              "</style>\n",
              "<table border=\"1\" class=\"dataframe\">\n",
              "  <thead>\n",
              "    <tr style=\"text-align: right;\">\n",
              "      <th></th>\n",
              "      <th>CreditScore</th>\n",
              "      <th>Age</th>\n",
              "      <th>Tenure</th>\n",
              "      <th>Balance</th>\n",
              "      <th>NumOfProducts</th>\n",
              "      <th>HasCrCard</th>\n",
              "      <th>IsActiveMember</th>\n",
              "      <th>EstimatedSalary</th>\n",
              "      <th>Exited</th>\n",
              "      <th>Geography_Germany</th>\n",
              "      <th>Geography_Spain</th>\n",
              "      <th>Gender_Male</th>\n",
              "    </tr>\n",
              "  </thead>\n",
              "  <tbody>\n",
              "    <tr>\n",
              "      <th>0</th>\n",
              "      <td>619</td>\n",
              "      <td>42</td>\n",
              "      <td>2</td>\n",
              "      <td>0.00</td>\n",
              "      <td>1</td>\n",
              "      <td>1</td>\n",
              "      <td>1</td>\n",
              "      <td>101348.88</td>\n",
              "      <td>1</td>\n",
              "      <td>0</td>\n",
              "      <td>0</td>\n",
              "      <td>0</td>\n",
              "    </tr>\n",
              "    <tr>\n",
              "      <th>1</th>\n",
              "      <td>608</td>\n",
              "      <td>41</td>\n",
              "      <td>1</td>\n",
              "      <td>83807.86</td>\n",
              "      <td>1</td>\n",
              "      <td>0</td>\n",
              "      <td>1</td>\n",
              "      <td>112542.58</td>\n",
              "      <td>0</td>\n",
              "      <td>0</td>\n",
              "      <td>1</td>\n",
              "      <td>0</td>\n",
              "    </tr>\n",
              "    <tr>\n",
              "      <th>2</th>\n",
              "      <td>502</td>\n",
              "      <td>42</td>\n",
              "      <td>8</td>\n",
              "      <td>159660.80</td>\n",
              "      <td>3</td>\n",
              "      <td>1</td>\n",
              "      <td>0</td>\n",
              "      <td>113931.57</td>\n",
              "      <td>1</td>\n",
              "      <td>0</td>\n",
              "      <td>0</td>\n",
              "      <td>0</td>\n",
              "    </tr>\n",
              "    <tr>\n",
              "      <th>3</th>\n",
              "      <td>699</td>\n",
              "      <td>39</td>\n",
              "      <td>1</td>\n",
              "      <td>0.00</td>\n",
              "      <td>2</td>\n",
              "      <td>0</td>\n",
              "      <td>0</td>\n",
              "      <td>93826.63</td>\n",
              "      <td>0</td>\n",
              "      <td>0</td>\n",
              "      <td>0</td>\n",
              "      <td>0</td>\n",
              "    </tr>\n",
              "    <tr>\n",
              "      <th>4</th>\n",
              "      <td>850</td>\n",
              "      <td>43</td>\n",
              "      <td>2</td>\n",
              "      <td>125510.82</td>\n",
              "      <td>1</td>\n",
              "      <td>1</td>\n",
              "      <td>1</td>\n",
              "      <td>79084.10</td>\n",
              "      <td>0</td>\n",
              "      <td>0</td>\n",
              "      <td>1</td>\n",
              "      <td>0</td>\n",
              "    </tr>\n",
              "  </tbody>\n",
              "</table>\n",
              "</div>"
            ],
            "text/plain": [
              "   CreditScore  Age  Tenure  ...  Geography_Germany  Geography_Spain  Gender_Male\n",
              "0          619   42       2  ...                  0                0            0\n",
              "1          608   41       1  ...                  0                1            0\n",
              "2          502   42       8  ...                  0                0            0\n",
              "3          699   39       1  ...                  0                0            0\n",
              "4          850   43       2  ...                  0                1            0\n",
              "\n",
              "[5 rows x 12 columns]"
            ]
          },
          "metadata": {
            "tags": []
          },
          "execution_count": 106
        }
      ]
    },
    {
      "cell_type": "code",
      "metadata": {
        "id": "UjcnZSuKxqRZ"
      },
      "source": [
        "#Removing outliers\n",
        "from scipy import stats\n",
        "z = np.abs(stats.zscore(data))\n",
        "threshold = 3\n",
        "\n",
        "#Removing outliers\n",
        "data_without_outliers = data[(z < 3).all(axis=1)]"
      ],
      "execution_count": 198,
      "outputs": []
    },
    {
      "cell_type": "code",
      "metadata": {
        "colab": {
          "base_uri": "https://localhost:8080/",
          "height": 980
        },
        "id": "XXqJWH_PMEDu",
        "outputId": "323e8d29-f0c4-4af9-b4bf-746eae01c724"
      },
      "source": [
        "import seaborn as sns\n",
        "plt.figure(figsize=(15,15))\n",
        "sns.heatmap(data_without_outliers.corr(),annot=True,cmap='inferno',mask=np.triu(data_without_outliers.corr(),k=1))"
      ],
      "execution_count": 199,
      "outputs": [
        {
          "output_type": "execute_result",
          "data": {
            "text/plain": [
              "<matplotlib.axes._subplots.AxesSubplot at 0x7f3313265e80>"
            ]
          },
          "metadata": {
            "tags": []
          },
          "execution_count": 199
        },
        {
          "output_type": "display_data",
          "data": {
            "image/png": "[encoded data removed]",
            "text/plain": [
              "<Figure size 1080x1080 with 2 Axes>"
            ]
          },
          "metadata": {
            "tags": [],
            "needs_background": "light"
          }
        }
      ]
    },
    {
      "cell_type": "code",
      "metadata": {
        "id": "XciF5_eLMvju"
      },
      "source": [
        "#Dropping irrelavent columns\n",
        "data_without_outliers.drop([\"NumOfProducts\", \"IsActiveMember\"], axis = 1, inplace = True)"
      ],
      "execution_count": 200,
      "outputs": []
    },
    {
      "cell_type": "code",
      "metadata": {
        "colab": {
          "base_uri": "https://localhost:8080/"
        },
        "id": "jueX59yOxGW3",
        "outputId": "4b452520-9605-434f-a60b-1e12110c3eb7"
      },
      "source": [
        "#Getting X and Y\n",
        "pd.options.mode.chained_assignment = None  # default='warn'\n",
        "\n",
        "Y = data_without_outliers.iloc[:, 8].values\n",
        "data_without_outliers.drop(['Exited'], axis = 1, inplace = True)\n",
        "X = data_without_outliers.values\n",
        "\n",
        "\n",
        "print(X.shape)\n",
        "print(Y.shape)"
      ],
      "execution_count": 201,
      "outputs": [
        {
          "output_type": "stream",
          "text": [
            "(9799, 9)\n",
            "(9799,)\n"
          ],
          "name": "stdout"
        }
      ]
    },
    {
      "cell_type": "code",
      "metadata": {
        "colab": {
          "base_uri": "https://localhost:8080/"
        },
        "id": "6F2qDH8uxYeq",
        "outputId": "68610d26-e757-4623-f8ba-f3ccfa0c36e2"
      },
      "source": [
        "from sklearn.model_selection import train_test_split\n",
        "X_train, X_test, y_train, y_test = train_test_split(X, Y, test_size = 0.2, random_state = 0)\n",
        "\n",
        "print(X_train.shape, y_train.shape, X_test.shape, y_test.shape)"
      ],
      "execution_count": 202,
      "outputs": [
        {
          "output_type": "stream",
          "text": [
            "(7839, 9) (7839,) (1960, 9) (1960,)\n"
          ],
          "name": "stdout"
        }
      ]
    },
    {
      "cell_type": "code",
      "metadata": {
        "colab": {
          "base_uri": "https://localhost:8080/"
        },
        "id": "vXWmCb9QP5aO",
        "outputId": "544640f0-0a73-4303-9917-d4cf6d9a83b6"
      },
      "source": [
        "from imblearn.over_sampling import SMOTE\n",
        "from imblearn.under_sampling import RandomUnderSampler\n",
        "from imblearn.pipeline import Pipeline\n",
        "\n",
        "# define pipeline\n",
        "over = SMOTE(sampling_strategy=0.5)\n",
        "under = RandomUnderSampler(sampling_strategy=0.5)\n",
        "steps = [('o', over), ('u', under)]\n",
        "pipeline = Pipeline(steps=steps)\n",
        "\n",
        "# transform the dataset\n",
        "X_train, y_train = pipeline.fit_resample(X_train, y_train)"
      ],
      "execution_count": 204,
      "outputs": [
        {
          "output_type": "stream",
          "text": [
            "/usr/local/lib/python3.6/dist-packages/sklearn/utils/deprecation.py:87: FutureWarning: Function safe_indexing is deprecated; safe_indexing is deprecated in version 0.22 and will be removed in version 0.24.\n",
            "  warnings.warn(msg, category=FutureWarning)\n",
            "/usr/local/lib/python3.6/dist-packages/sklearn/utils/deprecation.py:87: FutureWarning: Function safe_indexing is deprecated; safe_indexing is deprecated in version 0.22 and will be removed in version 0.24.\n",
            "  warnings.warn(msg, category=FutureWarning)\n"
          ],
          "name": "stderr"
        }
      ]
    },
    {
      "cell_type": "code",
      "metadata": {
        "id": "xGK0XRT1158T"
      },
      "source": [
        "#Feature scaling\n",
        "from sklearn.preprocessing import MinMaxScaler\n",
        "sc = MinMaxScaler()\n",
        "\n",
        "X_train[:, [0,1,2,3,5]] = sc.fit_transform(X_train[:,[0,1,2,3,5]])\n",
        "X_test[:, [0,1,2,3,5]] = sc.transform(X_test[:,[0,1,2,3,5]])"
      ],
      "execution_count": 205,
      "outputs": []
    },
    {
      "cell_type": "markdown",
      "metadata": {
        "id": "dNfoG3PBooFZ"
      },
      "source": [
        "#Neural network - Vishal\n"
      ]
    },
    {
      "cell_type": "markdown",
      "metadata": {
        "id": "yODB1QNOThLq"
      },
      "source": [
        "Alright now lets build our neural network"
      ]
    },
    {
      "cell_type": "code",
      "metadata": {
        "id": "TPsYVnDhZ_EU"
      },
      "source": [
        "def sigmoid(X):\n",
        "  res = 1 / (1 + np.exp(-X))\n",
        "  return res"
      ],
      "execution_count": 59,
      "outputs": []
    },
    {
      "cell_type": "code",
      "metadata": {
        "id": "-rWWovC3VTns"
      },
      "source": [
        "def initialize_parameters(input_layer, hidden_layer_1, hidden_layer_2, hidden_layer_3, output_layer):\n",
        "  \n",
        "  #Weights and biases between input layer and hidden layer 1 \n",
        "  W1 = np.random.randn(hidden_layer_1, input_layer)\n",
        "  b1 = np.zeros((hidden_layer_1, 1))\n",
        "\n",
        "  #Weights and biases between hidden layer 1 and hidden layer 2 \n",
        "  W2 = np.random.randn(hidden_layer_2, hidden_layer_1)\n",
        "  b2 = np.zeros((hidden_layer_2, 1))\n",
        "  \n",
        "  #Weights and biases between hidden layer 1 and hidden layer 2 \n",
        "  W3 = np.random.randn(hidden_layer_3, hidden_layer_2)\n",
        "  b3 = np.zeros((hidden_layer_3, 1))\n",
        "\n",
        "  #Weights and biases between hidden layer 3 and output layer \n",
        "  W4 = np.random.randn(output_layer, hidden_layer_3)\n",
        "  b4 = np.zeros((output_layer, 1))\n",
        "\n",
        "  Weights = {\"W1\" : W1, \"b1\" : b1, \"W2\" : W2, \"b2\" : b2, \"W3\" : W3, \"b3\" : b3, \"W4\" : W4, \"b4\" : b4}\n",
        "  return Weights"
      ],
      "execution_count": 85,
      "outputs": []
    },
    {
      "cell_type": "code",
      "metadata": {
        "id": "O7kjqBVYYB48"
      },
      "source": [
        "def Forward_prop(X, Weights):\n",
        "\n",
        "  #Extracting weights and biases\n",
        "  W1 = Weights[\"W1\"]\n",
        "  W2 = Weights[\"W2\"]\n",
        "  W3 = Weights[\"W3\"]\n",
        "  W4 = Weights[\"W4\"]\n",
        "\n",
        "  b1 = Weights[\"b1\"]\n",
        "  b2 = Weights[\"b2\"]\n",
        "  b3 = Weights[\"b3\"]\n",
        "  b4 = Weights[\"b4\"]\n",
        "\n",
        "  #Forward propagation - We will be using tanh as activation for hidden layer \n",
        "  #and sigmoid for output_layer\n",
        "  Z1 = np.matmul(W1, X) + b1\n",
        "  A1 = np.tanh(Z1)\n",
        "\n",
        "  Z2 = np.matmul(W2, A1) + b2\n",
        "  A2 = np.tanh(Z2)\n",
        "\n",
        "  Z3 = np.matmul(W3, A2) + b3\n",
        "  A3 = np.tanh(Z3)\n",
        "  \n",
        "  Z4 = np.matmul(W4, A3) + b4\n",
        "  A4 = sigmoid(Z4) #Our Y_hat or predicted value\n",
        "\n",
        "  Units = {\"Z1\" : Z1, \"A1\" : A1, \"Z2\" : Z2, \"A2\" : A2, \"Z3\" : Z3, \"A3\" : A3, \"Z4\" : Z4, \"A4\" : A4}\n",
        "  return Units"
      ],
      "execution_count": 61,
      "outputs": []
    },
    {
      "cell_type": "code",
      "metadata": {
        "id": "G8xYN504bVEL"
      },
      "source": [
        "def cost_compute(Units, y, m):\n",
        "\n",
        "  #Extracting Y_hat from Units\n",
        "  A4 = Units[\"A4\"]\n",
        "\n",
        "  #The cost function is the same as the one we used for logistic regression\n",
        "  J = (np.sum((-y * np.log(A4)) - ((1 - y) * (np.log(1 - A4)))) / m)\n",
        "\n",
        "  return J"
      ],
      "execution_count": 62,
      "outputs": []
    },
    {
      "cell_type": "code",
      "metadata": {
        "id": "0wo0eD4tdMNt"
      },
      "source": [
        "def Back_prop(Weights, Units, X, Y):\n",
        "\n",
        "  #Extracting Weights\n",
        "  W1 = Weights[\"W1\"]\n",
        "  W2 = Weights[\"W2\"]\n",
        "  W3 = Weights[\"W3\"]\n",
        "  W4 = Weights[\"W4\"]\n",
        "\n",
        "  #Extracting units\n",
        "  A1 = Units[\"A1\"]\n",
        "  A2 = Units[\"A2\"]\n",
        "  A3 = Units[\"A3\"]\n",
        "  A4 = Units[\"A4\"]\n",
        "\n",
        "  #Back propagation\n",
        "  dz4 = A4 - Y\n",
        "  dw4 = (1/m) * np.matmul(dz4, A3.T)\n",
        "  db4 = (1/m) * np.sum(dz4, axis = 1, keepdims = True)\n",
        "\n",
        "  dz3 = np.multiply(np.matmul(W4.T, dz4), 1 - np.power(A3,2)) # derivative of tanh(Z) = 1-A^2\n",
        "  dw3 = (1/m) * np.matmul(dz3, A2.T)\n",
        "  db3 = (1/m) * np.sum(dz3, axis = 1, keepdims = True)\n",
        "  \n",
        "  dz2 = np.multiply(np.matmul(W3.T, dz3), 1 - np.power(A2,2))\n",
        "  dw2 = (1/m) * np.matmul(dz2, A1.T)\n",
        "  db2 = (1/m) * np.sum(dz2, axis = 1, keepdims = True)\n",
        "\n",
        "  dz1 = np.multiply(np.matmul(W2.T, dz2), 1 - np.power(A1,2))\n",
        "  dw1 = (1/m) * np.matmul(dz1, X.T)\n",
        "  db1 = (1/m) * np.sum(dz1, axis = 1, keepdims = True)\n",
        "\n",
        "  Grads = {\"dw1\" : dw1, \"db1\" : db1, \"dw2\" : dw2, \"db2\" : db2, \"dw3\" : dw3, \"db3\" : db3, \"dw4\" : dw4, \"db4\" : db4}\n",
        "  return Grads"
      ],
      "execution_count": 63,
      "outputs": []
    },
    {
      "cell_type": "code",
      "metadata": {
        "id": "K8wgmRWRi3KN"
      },
      "source": [
        "def Update_Weights(Weights, Grads, alpha):\n",
        "  \n",
        "  #Extracting weights and biases\n",
        "  W1 = Weights[\"W1\"]\n",
        "  W2 = Weights[\"W2\"]\n",
        "  W3 = Weights[\"W3\"]\n",
        "  W4 = Weights[\"W4\"]\n",
        "\n",
        "  b1 = Weights[\"b1\"]\n",
        "  b2 = Weights[\"b2\"]\n",
        "  b3 = Weights[\"b3\"]\n",
        "  b4 = Weights[\"b4\"]\n",
        "\n",
        "  #Extracting grads\n",
        "  dw1 = Grads[\"dw1\"]\n",
        "  dw2 = Grads[\"dw2\"]\n",
        "  dw3 = Grads[\"dw3\"]\n",
        "  dw4 = Grads[\"dw4\"]\n",
        "\n",
        "  db1 = Grads[\"db1\"]\n",
        "  db2 = Grads[\"db2\"]\n",
        "  db3 = Grads[\"db3\"]\n",
        "  db4 = Grads[\"db4\"]\n",
        "\n",
        "  #Updating weights and biases\n",
        "  W1 = W1 - alpha * dw1\n",
        "  W2 = W2 - alpha * dw2\n",
        "  W3 = W3 - alpha * dw3\n",
        "  W4 = W4 - alpha * dw4\n",
        "\n",
        "  b1 = b1 - alpha * db1\n",
        "  b2 = b2 - alpha * db2\n",
        "  b3 = b3 - alpha * db3\n",
        "  b4 = b4 - alpha * db4\n",
        "\n",
        "  Weights = {\"W1\" : W1, \"b1\" : b1, \"W2\" : W2, \"b2\" : b2, \"W3\" : W3, \"b3\" : b3, \"W4\" : W4, \"b4\" : b4}\n",
        "  return Weights"
      ],
      "execution_count": 64,
      "outputs": []
    },
    {
      "cell_type": "code",
      "metadata": {
        "colab": {
          "base_uri": "https://localhost:8080/"
        },
        "id": "JOGW7WCT3yxY",
        "outputId": "a684857d-9cd1-40d6-dee5-5162f757607e"
      },
      "source": [
        "#Inversion\n",
        "X_train = X_train.reshape(X_train.shape[0], -1).T\n",
        "y_train = y_train.reshape(len(y_train), 1).T\n",
        "X_test = X_test.reshape(X_test.shape[0], -1).T\n",
        "y_test = y_test.reshape(len(y_test), 1).T\n",
        "\n",
        "print(\"X-train :\", X_train.shape, \"Y-train: \",y_train.shape)\n",
        "print(\"X-test :\", X_test.shape, \"Y-test: \",y_test.shape)"
      ],
      "execution_count": 206,
      "outputs": [
        {
          "output_type": "stream",
          "text": [
            "X-train : (9, 8829) Y-train:  (1, 8829)\n",
            "X-test : (9, 1960) Y-test:  (1, 1960)\n"
          ],
          "name": "stdout"
        }
      ]
    },
    {
      "cell_type": "code",
      "metadata": {
        "id": "j-2KmkWLRlpJ",
        "colab": {
          "base_uri": "https://localhost:8080/",
          "height": 329
        },
        "outputId": "0f908712-af72-4d9d-ff08-a1d3b921d553"
      },
      "source": [
        "# ANN implementation\n",
        "input_layer = X_train.shape[0]\n",
        "hidden_layer_1 = 12\n",
        "hidden_layer_2 = 10\n",
        "hidden_layer_3 = 10\n",
        "output_layer = y_train.shape[0]\n",
        "\n",
        "epochs = 1000\n",
        "m = X_train.shape[1]\n",
        "alpha = 0.01\n",
        "\n",
        "#Dictionary containing the weights of the different layers\n",
        "Weights = initialize_parameters(input_layer, hidden_layer_1, hidden_layer_2, hidden_layer_3, output_layer)\n",
        "\n",
        "#Storing cost history for plotting purposes\n",
        "J_hist = []\n",
        "\n",
        "#Gradient descent\n",
        "for i in range(epochs):\n",
        "  Units = Forward_prop(X_train, Weights)\n",
        "\n",
        "  J = cost_compute(Units, y_train, m)\n",
        "  J_hist.append(J)\n",
        "\n",
        "  Grads = Back_prop(Weights, Units, X_train, y_train)  \n",
        "\n",
        "  Weights = Update_Weights(Weights, Grads, alpha)\n",
        "  if i % 800 == 0:\n",
        "    print(\"Cost after Iter :\", i, \"Cost :\", J)\n",
        "\n",
        "#Plotting cost vs epochs\n",
        "plt.plot(range(epochs), J_hist, color = 'red')\n",
        "plt.title(\"Cost function vs epochs\")\n",
        "plt.xlabel(\"epochs\")\n",
        "plt.ylabel(\"J - cost function\")\n",
        "plt.show()"
      ],
      "execution_count": 225,
      "outputs": [
        {
          "output_type": "stream",
          "text": [
            "Cost after Iter : 0 Cost : -22.744954508312535\n",
            "Cost after Iter : 800 Cost : -5.130059955304464\n"
          ],
          "name": "stdout"
        },
        {
          "output_type": "display_data",
          "data": {
            "image/png": "[encoded data removed]",
            "text/plain": [
              "<Figure size 432x288 with 1 Axes>"
            ]
          },
          "metadata": {
            "tags": [],
            "needs_background": "light"
          }
        }
      ]
    },
    {
      "cell_type": "code",
      "metadata": {
        "colab": {
          "base_uri": "https://localhost:8080/"
        },
        "id": "RDca_K-SA5Sg",
        "outputId": "c0d8a9e0-04b5-4e32-f43e-90fb3fa5bb53"
      },
      "source": [
        "#Train set\n",
        "#Calling forward propagation and getting y_pred\n",
        "finalUnits = Forward_prop(X_train, Weights)\n",
        "y_pred = finalUnits[\"A4\"]\n",
        "y_pred = y_pred.T\n",
        "\n",
        "Y_pred = list()\n",
        "for x in y_pred:\n",
        "  if x >= 0.5:\n",
        "    Y_pred.append(1)\n",
        "  else:\n",
        "    Y_pred.append(0)  \n",
        "\n",
        "Y_pred = np.array(Y_pred)\n",
        "Y_pred = Y_pred.reshape(1, Y_pred.shape[0])\n",
        "\n",
        "#Accuracy\n",
        "score = np.sum(y_train == Y_pred) / y_train.shape[1] * 100\n",
        "\n",
        "print(\"Accuracy :\", score)"
      ],
      "execution_count": 226,
      "outputs": [
        {
          "output_type": "stream",
          "text": [
            "Accuracy : 99.9660210669385\n"
          ],
          "name": "stdout"
        }
      ]
    },
    {
      "cell_type": "code",
      "metadata": {
        "id": "3yuzlUtv3Sm2",
        "colab": {
          "base_uri": "https://localhost:8080/"
        },
        "outputId": "79acc840-ea51-4b47-8515-8928250fe5af"
      },
      "source": [
        "#Test set\n",
        "#Calling forward propagation and getting y_pred\n",
        "finalUnits = Forward_prop(X_test, Weights)\n",
        "y_pred = finalUnits[\"A4\"]\n",
        "y_pred = y_pred.T\n",
        "\n",
        "Y_pred = list()\n",
        "for x in y_pred:\n",
        "  if x >= 0.5:\n",
        "    Y_pred.append(1)\n",
        "  else:\n",
        "    Y_pred.append(0)  \n",
        "\n",
        "Y_pred = np.array(Y_pred)\n",
        "Y_pred = Y_pred.reshape(1, Y_pred.shape[0])\n",
        "\n",
        "#Accuracy\n",
        "score = np.sum(y_test == Y_pred) / y_test.shape[1] * 100\n",
        "\n",
        "print(\"Accuracy :\", score)"
      ],
      "execution_count": 229,
      "outputs": [
        {
          "output_type": "stream",
          "text": [
            "Accuracy : 99.84693877551021\n"
          ],
          "name": "stdout"
        }
      ]
    },
    {
      "cell_type": "code",
      "metadata": {
        "colab": {
          "base_uri": "https://localhost:8080/"
        },
        "id": "UlEhZNppTqKv",
        "outputId": "73731400-07b3-472b-d321-9a3a405b9599"
      },
      "source": [
        "from sklearn.metrics import classification_report,confusion_matrix\n",
        "y_test = y_test.T\n",
        "Y_pred = Y_pred.T\n",
        "print(classification_report(y_test,Y_pred))\n",
        "print(confusion_matrix(y_test, Y_pred))"
      ],
      "execution_count": 230,
      "outputs": [
        {
          "output_type": "stream",
          "text": [
            "              precision    recall  f1-score   support\n",
            "\n",
            "           0       1.00      1.00      1.00      1474\n",
            "           1       1.00      1.00      1.00       486\n",
            "\n",
            "    accuracy                           1.00      1960\n",
            "   macro avg       1.00      1.00      1.00      1960\n",
            "weighted avg       1.00      1.00      1.00      1960\n",
            "\n",
            "[[1472    2]\n",
            " [   1  485]]\n"
          ],
          "name": "stdout"
        }
      ]
    },
    {
      "cell_type": "markdown",
      "metadata": {
        "id": "pGpCXQVCDJKN"
      },
      "source": [
        "# NEURAL NETWORK USING SKLEARN"
      ]
    },
    {
      "cell_type": "code",
      "metadata": {
        "colab": {
          "base_uri": "https://localhost:8080/"
        },
        "id": "W_FZvCncDa0Q",
        "outputId": "6045fd8a-f712-404b-f076-dbec826b1a2c"
      },
      "source": [
        "Y_train = np.reshape(y_train,(y_train.shape[1],))\n",
        "Y_train.shape"
      ],
      "execution_count": 233,
      "outputs": [
        {
          "output_type": "execute_result",
          "data": {
            "text/plain": [
              "(8829,)"
            ]
          },
          "metadata": {
            "tags": []
          },
          "execution_count": 233
        }
      ]
    },
    {
      "cell_type": "code",
      "metadata": {
        "id": "NhYXGzHKDL_m"
      },
      "source": [
        "from sklearn.neural_network import MLPClassifier\n",
        "\n",
        "mlp = MLPClassifier(hidden_layer_sizes=(8,8,8), activation='relu', solver='adam', max_iter=5000)\n",
        "mlp.fit(X_train.T,Y_train)\n",
        "\n",
        "predict_train = mlp.predict(X_train.T)\n",
        "predict_test = mlp.predict(X_test.T)"
      ],
      "execution_count": 235,
      "outputs": []
    },
    {
      "cell_type": "code",
      "metadata": {
        "colab": {
          "base_uri": "https://localhost:8080/"
        },
        "id": "SKF8bw66DXOp",
        "outputId": "eb17432b-a982-48e3-c545-895ad3b9c06f"
      },
      "source": [
        "\n",
        "from sklearn.metrics import classification_report,confusion_matrix\n",
        "print(confusion_matrix(Y_train,predict_train))\n",
        "print(classification_report(Y_train,predict_train))"
      ],
      "execution_count": 236,
      "outputs": [
        {
          "output_type": "stream",
          "text": [
            "[[5886    0]\n",
            " [   0 2943]]\n",
            "              precision    recall  f1-score   support\n",
            "\n",
            "           0       1.00      1.00      1.00      5886\n",
            "           1       1.00      1.00      1.00      2943\n",
            "\n",
            "    accuracy                           1.00      8829\n",
            "   macro avg       1.00      1.00      1.00      8829\n",
            "weighted avg       1.00      1.00      1.00      8829\n",
            "\n"
          ],
          "name": "stdout"
        }
      ]
    }
  ]
}