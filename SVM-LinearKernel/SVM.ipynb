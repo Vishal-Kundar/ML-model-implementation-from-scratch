{
  "nbformat": 4,
  "nbformat_minor": 0,
  "metadata": {
    "colab": {
      "name": "SVM.ipynb",
      "provenance": [],
      "collapsed_sections": []
    },
    "kernelspec": {
      "name": "python3",
      "display_name": "Python 3"
    }
  },
  "cells": [
    {
      "cell_type": "markdown",
      "metadata": {
        "id": "I-GXGNKYQubX"
      },
      "source": [
        "**Support Vector Machine From Scratch**"
      ]
    },
    {
      "cell_type": "markdown",
      "metadata": {
        "id": "ZRY6XdWvgrBB"
      },
      "source": [
        "## Data preprocessing"
      ]
    },
    {
      "cell_type": "code",
      "metadata": {
        "id": "B53S9ORWQxKJ"
      },
      "source": [
        "#Importing packages\n",
        "import numpy as np\n",
        "import pandas as pd\n",
        "import matplotlib.pyplot as plt"
      ],
      "execution_count": 492,
      "outputs": []
    },
    {
      "cell_type": "code",
      "metadata": {
        "colab": {
          "base_uri": "https://localhost:8080/",
          "height": 241
        },
        "id": "aUHblnT0WKWB",
        "outputId": "ae7887a0-91dc-4bcb-f00c-ec7a7cf4f49b"
      },
      "source": [
        "#Reading data\n",
        "data = pd.read_csv('data.csv')\n",
        "\n",
        "#Encoding categorical variable M = 1 and B = -1\n",
        "diagnosis_map = {'M':1, 'B':-1}\n",
        "data['diagnosis'] = data['diagnosis'].map(diagnosis_map)\n",
        "\n",
        "# drop last column (extra column added by pd)\n",
        "# and unnecessary first column (id)\n",
        "data.drop(data.columns[[-1, 0]], axis=1, inplace=True)\n",
        "data.head()"
      ],
      "execution_count": 493,
      "outputs": [
        {
          "output_type": "execute_result",
          "data": {
            "text/html": [
              "<div>\n",
              "<style scoped>\n",
              "    .dataframe tbody tr th:only-of-type {\n",
              "        vertical-align: middle;\n",
              "    }\n",
              "\n",
              "    .dataframe tbody tr th {\n",
              "        vertical-align: top;\n",
              "    }\n",
              "\n",
              "    .dataframe thead th {\n",
              "        text-align: right;\n",
              "    }\n",
              "</style>\n",
              "<table border=\"1\" class=\"dataframe\">\n",
              "  <thead>\n",
              "    <tr style=\"text-align: right;\">\n",
              "      <th></th>\n",
              "      <th>diagnosis</th>\n",
              "      <th>radius_mean</th>\n",
              "      <th>texture_mean</th>\n",
              "      <th>perimeter_mean</th>\n",
              "      <th>area_mean</th>\n",
              "      <th>smoothness_mean</th>\n",
              "      <th>compactness_mean</th>\n",
              "      <th>concavity_mean</th>\n",
              "      <th>concave points_mean</th>\n",
              "      <th>symmetry_mean</th>\n",
              "      <th>fractal_dimension_mean</th>\n",
              "      <th>radius_se</th>\n",
              "      <th>texture_se</th>\n",
              "      <th>perimeter_se</th>\n",
              "      <th>area_se</th>\n",
              "      <th>smoothness_se</th>\n",
              "      <th>compactness_se</th>\n",
              "      <th>concavity_se</th>\n",
              "      <th>concave points_se</th>\n",
              "      <th>symmetry_se</th>\n",
              "      <th>fractal_dimension_se</th>\n",
              "      <th>radius_worst</th>\n",
              "      <th>texture_worst</th>\n",
              "      <th>perimeter_worst</th>\n",
              "      <th>area_worst</th>\n",
              "      <th>smoothness_worst</th>\n",
              "      <th>compactness_worst</th>\n",
              "      <th>concavity_worst</th>\n",
              "      <th>concave points_worst</th>\n",
              "      <th>symmetry_worst</th>\n",
              "      <th>fractal_dimension_worst</th>\n",
              "    </tr>\n",
              "  </thead>\n",
              "  <tbody>\n",
              "    <tr>\n",
              "      <th>0</th>\n",
              "      <td>1</td>\n",
              "      <td>17.99</td>\n",
              "      <td>10.38</td>\n",
              "      <td>122.80</td>\n",
              "      <td>1001.0</td>\n",
              "      <td>0.11840</td>\n",
              "      <td>0.27760</td>\n",
              "      <td>0.3001</td>\n",
              "      <td>0.14710</td>\n",
              "      <td>0.2419</td>\n",
              "      <td>0.07871</td>\n",
              "      <td>1.0950</td>\n",
              "      <td>0.9053</td>\n",
              "      <td>8.589</td>\n",
              "      <td>153.40</td>\n",
              "      <td>0.006399</td>\n",
              "      <td>0.04904</td>\n",
              "      <td>0.05373</td>\n",
              "      <td>0.01587</td>\n",
              "      <td>0.03003</td>\n",
              "      <td>0.006193</td>\n",
              "      <td>25.38</td>\n",
              "      <td>17.33</td>\n",
              "      <td>184.60</td>\n",
              "      <td>2019.0</td>\n",
              "      <td>0.1622</td>\n",
              "      <td>0.6656</td>\n",
              "      <td>0.7119</td>\n",
              "      <td>0.2654</td>\n",
              "      <td>0.4601</td>\n",
              "      <td>0.11890</td>\n",
              "    </tr>\n",
              "    <tr>\n",
              "      <th>1</th>\n",
              "      <td>1</td>\n",
              "      <td>20.57</td>\n",
              "      <td>17.77</td>\n",
              "      <td>132.90</td>\n",
              "      <td>1326.0</td>\n",
              "      <td>0.08474</td>\n",
              "      <td>0.07864</td>\n",
              "      <td>0.0869</td>\n",
              "      <td>0.07017</td>\n",
              "      <td>0.1812</td>\n",
              "      <td>0.05667</td>\n",
              "      <td>0.5435</td>\n",
              "      <td>0.7339</td>\n",
              "      <td>3.398</td>\n",
              "      <td>74.08</td>\n",
              "      <td>0.005225</td>\n",
              "      <td>0.01308</td>\n",
              "      <td>0.01860</td>\n",
              "      <td>0.01340</td>\n",
              "      <td>0.01389</td>\n",
              "      <td>0.003532</td>\n",
              "      <td>24.99</td>\n",
              "      <td>23.41</td>\n",
              "      <td>158.80</td>\n",
              "      <td>1956.0</td>\n",
              "      <td>0.1238</td>\n",
              "      <td>0.1866</td>\n",
              "      <td>0.2416</td>\n",
              "      <td>0.1860</td>\n",
              "      <td>0.2750</td>\n",
              "      <td>0.08902</td>\n",
              "    </tr>\n",
              "    <tr>\n",
              "      <th>2</th>\n",
              "      <td>1</td>\n",
              "      <td>19.69</td>\n",
              "      <td>21.25</td>\n",
              "      <td>130.00</td>\n",
              "      <td>1203.0</td>\n",
              "      <td>0.10960</td>\n",
              "      <td>0.15990</td>\n",
              "      <td>0.1974</td>\n",
              "      <td>0.12790</td>\n",
              "      <td>0.2069</td>\n",
              "      <td>0.05999</td>\n",
              "      <td>0.7456</td>\n",
              "      <td>0.7869</td>\n",
              "      <td>4.585</td>\n",
              "      <td>94.03</td>\n",
              "      <td>0.006150</td>\n",
              "      <td>0.04006</td>\n",
              "      <td>0.03832</td>\n",
              "      <td>0.02058</td>\n",
              "      <td>0.02250</td>\n",
              "      <td>0.004571</td>\n",
              "      <td>23.57</td>\n",
              "      <td>25.53</td>\n",
              "      <td>152.50</td>\n",
              "      <td>1709.0</td>\n",
              "      <td>0.1444</td>\n",
              "      <td>0.4245</td>\n",
              "      <td>0.4504</td>\n",
              "      <td>0.2430</td>\n",
              "      <td>0.3613</td>\n",
              "      <td>0.08758</td>\n",
              "    </tr>\n",
              "    <tr>\n",
              "      <th>3</th>\n",
              "      <td>1</td>\n",
              "      <td>11.42</td>\n",
              "      <td>20.38</td>\n",
              "      <td>77.58</td>\n",
              "      <td>386.1</td>\n",
              "      <td>0.14250</td>\n",
              "      <td>0.28390</td>\n",
              "      <td>0.2414</td>\n",
              "      <td>0.10520</td>\n",
              "      <td>0.2597</td>\n",
              "      <td>0.09744</td>\n",
              "      <td>0.4956</td>\n",
              "      <td>1.1560</td>\n",
              "      <td>3.445</td>\n",
              "      <td>27.23</td>\n",
              "      <td>0.009110</td>\n",
              "      <td>0.07458</td>\n",
              "      <td>0.05661</td>\n",
              "      <td>0.01867</td>\n",
              "      <td>0.05963</td>\n",
              "      <td>0.009208</td>\n",
              "      <td>14.91</td>\n",
              "      <td>26.50</td>\n",
              "      <td>98.87</td>\n",
              "      <td>567.7</td>\n",
              "      <td>0.2098</td>\n",
              "      <td>0.8663</td>\n",
              "      <td>0.6869</td>\n",
              "      <td>0.2575</td>\n",
              "      <td>0.6638</td>\n",
              "      <td>0.17300</td>\n",
              "    </tr>\n",
              "    <tr>\n",
              "      <th>4</th>\n",
              "      <td>1</td>\n",
              "      <td>20.29</td>\n",
              "      <td>14.34</td>\n",
              "      <td>135.10</td>\n",
              "      <td>1297.0</td>\n",
              "      <td>0.10030</td>\n",
              "      <td>0.13280</td>\n",
              "      <td>0.1980</td>\n",
              "      <td>0.10430</td>\n",
              "      <td>0.1809</td>\n",
              "      <td>0.05883</td>\n",
              "      <td>0.7572</td>\n",
              "      <td>0.7813</td>\n",
              "      <td>5.438</td>\n",
              "      <td>94.44</td>\n",
              "      <td>0.011490</td>\n",
              "      <td>0.02461</td>\n",
              "      <td>0.05688</td>\n",
              "      <td>0.01885</td>\n",
              "      <td>0.01756</td>\n",
              "      <td>0.005115</td>\n",
              "      <td>22.54</td>\n",
              "      <td>16.67</td>\n",
              "      <td>152.20</td>\n",
              "      <td>1575.0</td>\n",
              "      <td>0.1374</td>\n",
              "      <td>0.2050</td>\n",
              "      <td>0.4000</td>\n",
              "      <td>0.1625</td>\n",
              "      <td>0.2364</td>\n",
              "      <td>0.07678</td>\n",
              "    </tr>\n",
              "  </tbody>\n",
              "</table>\n",
              "</div>"
            ],
            "text/plain": [
              "   diagnosis  radius_mean  ...  symmetry_worst  fractal_dimension_worst\n",
              "0          1        17.99  ...          0.4601                  0.11890\n",
              "1          1        20.57  ...          0.2750                  0.08902\n",
              "2          1        19.69  ...          0.3613                  0.08758\n",
              "3          1        11.42  ...          0.6638                  0.17300\n",
              "4          1        20.29  ...          0.2364                  0.07678\n",
              "\n",
              "[5 rows x 31 columns]"
            ]
          },
          "metadata": {
            "tags": []
          },
          "execution_count": 493
        }
      ]
    },
    {
      "cell_type": "code",
      "metadata": {
        "colab": {
          "base_uri": "https://localhost:8080/"
        },
        "id": "5U-ozKTxWNMw",
        "outputId": "2e929dd7-f022-48f5-f4c0-295233f25140"
      },
      "source": [
        "data.info()"
      ],
      "execution_count": 494,
      "outputs": [
        {
          "output_type": "stream",
          "text": [
            "<class 'pandas.core.frame.DataFrame'>\n",
            "RangeIndex: 569 entries, 0 to 568\n",
            "Data columns (total 31 columns):\n",
            " #   Column                   Non-Null Count  Dtype  \n",
            "---  ------                   --------------  -----  \n",
            " 0   diagnosis                569 non-null    int64  \n",
            " 1   radius_mean              569 non-null    float64\n",
            " 2   texture_mean             569 non-null    float64\n",
            " 3   perimeter_mean           569 non-null    float64\n",
            " 4   area_mean                569 non-null    float64\n",
            " 5   smoothness_mean          569 non-null    float64\n",
            " 6   compactness_mean         569 non-null    float64\n",
            " 7   concavity_mean           569 non-null    float64\n",
            " 8   concave points_mean      569 non-null    float64\n",
            " 9   symmetry_mean            569 non-null    float64\n",
            " 10  fractal_dimension_mean   569 non-null    float64\n",
            " 11  radius_se                569 non-null    float64\n",
            " 12  texture_se               569 non-null    float64\n",
            " 13  perimeter_se             569 non-null    float64\n",
            " 14  area_se                  569 non-null    float64\n",
            " 15  smoothness_se            569 non-null    float64\n",
            " 16  compactness_se           569 non-null    float64\n",
            " 17  concavity_se             569 non-null    float64\n",
            " 18  concave points_se        569 non-null    float64\n",
            " 19  symmetry_se              569 non-null    float64\n",
            " 20  fractal_dimension_se     569 non-null    float64\n",
            " 21  radius_worst             569 non-null    float64\n",
            " 22  texture_worst            569 non-null    float64\n",
            " 23  perimeter_worst          569 non-null    float64\n",
            " 24  area_worst               569 non-null    float64\n",
            " 25  smoothness_worst         569 non-null    float64\n",
            " 26  compactness_worst        569 non-null    float64\n",
            " 27  concavity_worst          569 non-null    float64\n",
            " 28  concave points_worst     569 non-null    float64\n",
            " 29  symmetry_worst           569 non-null    float64\n",
            " 30  fractal_dimension_worst  569 non-null    float64\n",
            "dtypes: float64(30), int64(1)\n",
            "memory usage: 137.9 KB\n"
          ],
          "name": "stdout"
        }
      ]
    },
    {
      "cell_type": "code",
      "metadata": {
        "colab": {
          "base_uri": "https://localhost:8080/"
        },
        "id": "175FjjevWG2N",
        "outputId": "f4247bbe-1f59-4fd8-93bd-510a208568cd"
      },
      "source": [
        "#Getting X and Y\n",
        "X = data.iloc[:, 1:].values\n",
        "Y = data.iloc[:, 0].values\n",
        "\n",
        "print(X.shape)\n",
        "print(Y.shape)"
      ],
      "execution_count": 495,
      "outputs": [
        {
          "output_type": "stream",
          "text": [
            "(569, 30)\n",
            "(569,)\n"
          ],
          "name": "stdout"
        }
      ]
    },
    {
      "cell_type": "code",
      "metadata": {
        "colab": {
          "base_uri": "https://localhost:8080/"
        },
        "id": "aP17Ak9jWhXH",
        "outputId": "50d21c18-f11a-4a8a-dae6-37b9248e1574"
      },
      "source": [
        "#Splitting dataset\n",
        "from sklearn.model_selection import train_test_split as tts\n",
        "X_train, X_test, Y_train, Y_test = tts(X, Y, test_size = 0.2, random_state = 1)\n",
        "\n",
        "print(X_train.shape)\n",
        "print(X_test.shape)\n",
        "print(Y_train.shape)\n",
        "print(Y_test.shape)"
      ],
      "execution_count": 496,
      "outputs": [
        {
          "output_type": "stream",
          "text": [
            "(455, 30)\n",
            "(114, 30)\n",
            "(455,)\n",
            "(114,)\n"
          ],
          "name": "stdout"
        }
      ]
    },
    {
      "cell_type": "code",
      "metadata": {
        "id": "itv2S_nPZJEY"
      },
      "source": [
        "#Feature scaling X train and X test\n",
        "from sklearn.preprocessing import MinMaxScaler\n",
        "scaler = MinMaxScaler()\n",
        "X_train = scaler.fit_transform(X_train)\n",
        "X_test = scaler.transform(X_test)"
      ],
      "execution_count": 497,
      "outputs": []
    },
    {
      "cell_type": "code",
      "metadata": {
        "colab": {
          "base_uri": "https://localhost:8080/"
        },
        "id": "8VGx0nHyWuzd",
        "outputId": "9470552c-1e68-4bf5-896e-57122b0bf1b4"
      },
      "source": [
        "#Adding column of 1 for each row of X_train and X_test as bias/intercept b\n",
        "X_train = np.concatenate((np.ones((X_train.shape[0], 1)), X_train), axis = 1)\n",
        "X_test = np.concatenate((np.ones((X_test.shape[0], 1)), X_test), axis = 1)\n",
        "\n",
        "print(X_train.shape)\n",
        "print(X_test.shape)"
      ],
      "execution_count": 498,
      "outputs": [
        {
          "output_type": "stream",
          "text": [
            "(455, 31)\n",
            "(114, 31)\n"
          ],
          "name": "stdout"
        }
      ]
    },
    {
      "cell_type": "markdown",
      "metadata": {
        "id": "ajXO1arChFH5"
      },
      "source": [
        "## SVM Model"
      ]
    },
    {
      "cell_type": "markdown",
      "metadata": {
        "id": "nneDAaGyhJKG"
      },
      "source": [
        "Cost function:\n",
        "\n",
        "![Screenshot 2021-01-05 at 11.04.56 AM.png](data:image/png;base64,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)"
      ]
    },
    {
      "cell_type": "code",
      "metadata": {
        "id": "uXJ73E06Z4Zy"
      },
      "source": [
        "def cost_func(C, W, X, Y):\n",
        "  M = X.shape[0]\n",
        "\n",
        "  distances = 1 - (Y * (np.dot(X, W))) #X already has b\n",
        "  distances[distances < 0] = 0  # equivalent to max(0, distance)\n",
        "\n",
        "  cost = C * (np.sum(distances) / M)\n",
        "  cost += float(((1/2) * np.dot(W.T, W)))\n",
        "  return cost"
      ],
      "execution_count": 499,
      "outputs": []
    },
    {
      "cell_type": "markdown",
      "metadata": {
        "id": "DXeS6iy1hQVm"
      },
      "source": [
        "Gradient descent equation:\n",
        "\n",
        "![Screenshot 2021-01-05 at 11.14.08 AM.png](data:image/png;base64,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)"
      ]
    },
    {
      "cell_type": "code",
      "metadata": {
        "id": "mHm7jc4uaKRP"
      },
      "source": [
        "def gradient_func(C, W, X, Y):\n",
        "  #print(\"X \", X)\n",
        "  #print(\"Y \", Y)\n",
        "  #print(\"W \", W)\n",
        "  distance = 1 - (Y * np.matmul(X, W))\n",
        "  \n",
        "  if max(0, distance) == 0:\n",
        "      di = W\n",
        "  else:\n",
        "      di = W - (C * (Y * X))\n",
        "\n",
        "  return di"
      ],
      "execution_count": 500,
      "outputs": []
    },
    {
      "cell_type": "code",
      "metadata": {
        "colab": {
          "base_uri": "https://localhost:8080/",
          "height": 465
        },
        "id": "QNZlv4qfbxKo",
        "outputId": "6b5cd003-0506-4df2-fd66-23020da9d475"
      },
      "source": [
        "#Stochastic gradient descent\n",
        "epochs = 5000\n",
        "weights = np.zeros((X_train.shape[1]))\n",
        "C = 1000\n",
        "cost_list = []\n",
        "alpha = 0.000001\n",
        "\n",
        "for i in range(epochs):\n",
        "  for ind, x in enumerate(X_train):\n",
        "    dw = gradient_func(C, weights, x, Y_train[ind])\n",
        "    weights = weights - (alpha * dw)\n",
        "\n",
        "  cost = cost_func(C, weights, X_train, Y_train)\n",
        "  cost_list.append(cost) \n",
        "\n",
        "  if(i % 500 == 0):\n",
        "    print(\"Epoch: \", i, \"cost: \", cost)\n",
        "     \n",
        "#Plotting cost function vs epochs\n",
        "plt.plot(list(range(epochs)), cost_list, '-r')\n",
        "plt.title(\"Cost function vs epochs\")\n",
        "plt.xlabel(\"epochs\")\n",
        "plt.ylabel(\"J - cost function\")\n",
        "plt.show()"
      ],
      "execution_count": 501,
      "outputs": [
        {
          "output_type": "stream",
          "text": [
            "Epoch:  0 cost:  940.3019694649082\n",
            "Epoch:  500 cost:  128.2746016443837\n",
            "Epoch:  1000 cost:  121.36598363732911\n",
            "Epoch:  1500 cost:  119.22885009817176\n",
            "Epoch:  2000 cost:  118.41769861390982\n",
            "Epoch:  2500 cost:  118.20240434259694\n",
            "Epoch:  3000 cost:  118.07215080458661\n",
            "Epoch:  3500 cost:  117.99565362336367\n",
            "Epoch:  4000 cost:  117.92131442242709\n",
            "Epoch:  4500 cost:  117.89174435313998\n"
          ],
          "name": "stdout"
        },
        {
          "output_type": "display_data",
          "data": {
            "image/png": "[encoded data removed]",
            "text/plain": [
              "<Figure size 432x288 with 1 Axes>"
            ]
          },
          "metadata": {
            "tags": [],
            "needs_background": "light"
          }
        }
      ]
    },
    {
      "cell_type": "code",
      "metadata": {
        "colab": {
          "base_uri": "https://localhost:8080/"
        },
        "id": "jdrz_1FbfWoD",
        "outputId": "88239bdf-2a52-4440-ca44-4ed1dad87f4f"
      },
      "source": [
        "#Test set results\n",
        "Y_pred = np.array([])\n",
        "for i in range(X_test.shape[0]):\n",
        "    yp = np.sign(np.dot(W, X_test[i])) #model\n",
        "    Y_pred = np.append(Y_pred, yp)\n",
        "\n",
        "print(\"Accuracy: \", accuracy_score(Y_test, Y_pred))\n",
        "print(\"Precision: \", precision_score(Y_test, Y_pred))\n",
        "print(\"Recall: \", recall_score(Y_test, Y_pred))"
      ],
      "execution_count": 502,
      "outputs": [
        {
          "output_type": "stream",
          "text": [
            "Accuracy:  0.9736842105263158\n",
            "Precision:  1.0\n",
            "Recall:  0.9285714285714286\n"
          ],
          "name": "stdout"
        }
      ]
    },
    {
      "cell_type": "code",
      "metadata": {
        "colab": {
          "base_uri": "https://localhost:8080/"
        },
        "id": "J6d5M9kuf1TH",
        "outputId": "cd52b823-bc1a-4d5c-8ed8-bc5c616bdbe6"
      },
      "source": [
        "#Train set results\n",
        "Y_pred = np.array([])\n",
        "for i in range(X_train.shape[0]):\n",
        "    yp = np.sign(np.dot(W, X_train[i])) #model\n",
        "    Y_pred = np.append(Y_pred, yp)\n",
        "\n",
        "print(\"Accuracy: \", accuracy_score(Y_train, Y_pred))\n",
        "print(\"Precision: \", precision_score(Y_train, Y_pred))\n",
        "print(\"Recall: \", recall_score(Y_train, Y_pred))"
      ],
      "execution_count": 503,
      "outputs": [
        {
          "output_type": "stream",
          "text": [
            "Accuracy:  0.9824175824175824\n",
            "Precision:  0.9655172413793104\n",
            "Recall:  0.9882352941176471\n"
          ],
          "name": "stdout"
        }
      ]
    },
    {
      "cell_type": "code",
      "metadata": {
        "id": "uod06opEhscS"
      },
      "source": [
        ""
      ],
      "execution_count": null,
      "outputs": []
    }
  ]
}