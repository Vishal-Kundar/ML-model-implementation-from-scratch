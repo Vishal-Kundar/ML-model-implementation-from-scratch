{
  "nbformat": 4,
  "nbformat_minor": 0,
  "metadata": {
    "colab": {
      "name": "Classification_LR.ipynb",
      "provenance": [],
      "collapsed_sections": [],
      "toc_visible": true
    },
    "kernelspec": {
      "name": "python3",
      "display_name": "Python 3"
    }
  },
  "cells": [
    {
      "cell_type": "markdown",
      "metadata": {
        "id": "TED8hHwwg3ve",
        "colab_type": "text"
      },
      "source": [
        "**Implementing Logistic Regression from scratch**\n",
        "\n",
        "Dataset: https://www.kaggle.com/dragonheir/logistic-regression\n",
        "\n",
        "The goal is to check if a user would click on an advertisement based on his gender, age and salary.\n",
        "\n",
        "Code by: Vishal Kundar"
      ]
    },
    {
      "cell_type": "code",
      "metadata": {
        "id": "Vd2iBD5p0zIo",
        "colab_type": "code",
        "colab": {}
      },
      "source": [
        "#Importing necessary packages\n",
        "import numpy as np\n",
        "import pandas as pd\n",
        "import matplotlib.pyplot as plt\n",
        "import seaborn as sns"
      ],
      "execution_count": 164,
      "outputs": []
    },
    {
      "cell_type": "code",
      "metadata": {
        "id": "l95gBQ_n0-qs",
        "colab_type": "code",
        "colab": {
          "base_uri": "https://localhost:8080/",
          "height": 204
        },
        "outputId": "2259db82-d45f-4223-f14f-38cce04d2ae9"
      },
      "source": [
        "#Reading dataset\n",
        "data = pd.read_csv('Social_Network_Ads.csv')\n",
        "data.head()"
      ],
      "execution_count": 165,
      "outputs": [
        {
          "output_type": "execute_result",
          "data": {
            "text/html": [
              "<div>\n",
              "<style scoped>\n",
              "    .dataframe tbody tr th:only-of-type {\n",
              "        vertical-align: middle;\n",
              "    }\n",
              "\n",
              "    .dataframe tbody tr th {\n",
              "        vertical-align: top;\n",
              "    }\n",
              "\n",
              "    .dataframe thead th {\n",
              "        text-align: right;\n",
              "    }\n",
              "</style>\n",
              "<table border=\"1\" class=\"dataframe\">\n",
              "  <thead>\n",
              "    <tr style=\"text-align: right;\">\n",
              "      <th></th>\n",
              "      <th>User ID</th>\n",
              "      <th>Gender</th>\n",
              "      <th>Age</th>\n",
              "      <th>EstimatedSalary</th>\n",
              "      <th>Purchased</th>\n",
              "    </tr>\n",
              "  </thead>\n",
              "  <tbody>\n",
              "    <tr>\n",
              "      <th>0</th>\n",
              "      <td>15624510</td>\n",
              "      <td>Male</td>\n",
              "      <td>19</td>\n",
              "      <td>19000</td>\n",
              "      <td>0</td>\n",
              "    </tr>\n",
              "    <tr>\n",
              "      <th>1</th>\n",
              "      <td>15810944</td>\n",
              "      <td>Male</td>\n",
              "      <td>35</td>\n",
              "      <td>20000</td>\n",
              "      <td>0</td>\n",
              "    </tr>\n",
              "    <tr>\n",
              "      <th>2</th>\n",
              "      <td>15668575</td>\n",
              "      <td>Female</td>\n",
              "      <td>26</td>\n",
              "      <td>43000</td>\n",
              "      <td>0</td>\n",
              "    </tr>\n",
              "    <tr>\n",
              "      <th>3</th>\n",
              "      <td>15603246</td>\n",
              "      <td>Female</td>\n",
              "      <td>27</td>\n",
              "      <td>57000</td>\n",
              "      <td>0</td>\n",
              "    </tr>\n",
              "    <tr>\n",
              "      <th>4</th>\n",
              "      <td>15804002</td>\n",
              "      <td>Male</td>\n",
              "      <td>19</td>\n",
              "      <td>76000</td>\n",
              "      <td>0</td>\n",
              "    </tr>\n",
              "  </tbody>\n",
              "</table>\n",
              "</div>"
            ],
            "text/plain": [
              "    User ID  Gender  Age  EstimatedSalary  Purchased\n",
              "0  15624510    Male   19            19000          0\n",
              "1  15810944    Male   35            20000          0\n",
              "2  15668575  Female   26            43000          0\n",
              "3  15603246  Female   27            57000          0\n",
              "4  15804002    Male   19            76000          0"
            ]
          },
          "metadata": {
            "tags": []
          },
          "execution_count": 165
        }
      ]
    },
    {
      "cell_type": "code",
      "metadata": {
        "id": "7ClVnTj_1HxU",
        "colab_type": "code",
        "colab": {
          "base_uri": "https://localhost:8080/",
          "height": 221
        },
        "outputId": "5c31b5fb-7973-44f9-e8f2-e988cb88d71a"
      },
      "source": [
        "#Checking for missing data\n",
        "data.info()"
      ],
      "execution_count": 166,
      "outputs": [
        {
          "output_type": "stream",
          "text": [
            "<class 'pandas.core.frame.DataFrame'>\n",
            "RangeIndex: 400 entries, 0 to 399\n",
            "Data columns (total 5 columns):\n",
            " #   Column           Non-Null Count  Dtype \n",
            "---  ------           --------------  ----- \n",
            " 0   User ID          400 non-null    int64 \n",
            " 1   Gender           400 non-null    object\n",
            " 2   Age              400 non-null    int64 \n",
            " 3   EstimatedSalary  400 non-null    int64 \n",
            " 4   Purchased        400 non-null    int64 \n",
            "dtypes: int64(4), object(1)\n",
            "memory usage: 15.8+ KB\n"
          ],
          "name": "stdout"
        }
      ]
    },
    {
      "cell_type": "markdown",
      "metadata": {
        "id": "WVmor_DU1LuM",
        "colab_type": "text"
      },
      "source": [
        "There seems to be no data missing"
      ]
    },
    {
      "cell_type": "code",
      "metadata": {
        "id": "EiW8uoKp1JoD",
        "colab_type": "code",
        "colab": {
          "base_uri": "https://localhost:8080/",
          "height": 297
        },
        "outputId": "1a769863-2b1b-4466-d13a-9fe426ddc1d9"
      },
      "source": [
        "#Properties of data\n",
        "data.describe()"
      ],
      "execution_count": 167,
      "outputs": [
        {
          "output_type": "execute_result",
          "data": {
            "text/html": [
              "<div>\n",
              "<style scoped>\n",
              "    .dataframe tbody tr th:only-of-type {\n",
              "        vertical-align: middle;\n",
              "    }\n",
              "\n",
              "    .dataframe tbody tr th {\n",
              "        vertical-align: top;\n",
              "    }\n",
              "\n",
              "    .dataframe thead th {\n",
              "        text-align: right;\n",
              "    }\n",
              "</style>\n",
              "<table border=\"1\" class=\"dataframe\">\n",
              "  <thead>\n",
              "    <tr style=\"text-align: right;\">\n",
              "      <th></th>\n",
              "      <th>User ID</th>\n",
              "      <th>Age</th>\n",
              "      <th>EstimatedSalary</th>\n",
              "      <th>Purchased</th>\n",
              "    </tr>\n",
              "  </thead>\n",
              "  <tbody>\n",
              "    <tr>\n",
              "      <th>count</th>\n",
              "      <td>4.000000e+02</td>\n",
              "      <td>400.000000</td>\n",
              "      <td>400.000000</td>\n",
              "      <td>400.000000</td>\n",
              "    </tr>\n",
              "    <tr>\n",
              "      <th>mean</th>\n",
              "      <td>1.569154e+07</td>\n",
              "      <td>37.655000</td>\n",
              "      <td>69742.500000</td>\n",
              "      <td>0.357500</td>\n",
              "    </tr>\n",
              "    <tr>\n",
              "      <th>std</th>\n",
              "      <td>7.165832e+04</td>\n",
              "      <td>10.482877</td>\n",
              "      <td>34096.960282</td>\n",
              "      <td>0.479864</td>\n",
              "    </tr>\n",
              "    <tr>\n",
              "      <th>min</th>\n",
              "      <td>1.556669e+07</td>\n",
              "      <td>18.000000</td>\n",
              "      <td>15000.000000</td>\n",
              "      <td>0.000000</td>\n",
              "    </tr>\n",
              "    <tr>\n",
              "      <th>25%</th>\n",
              "      <td>1.562676e+07</td>\n",
              "      <td>29.750000</td>\n",
              "      <td>43000.000000</td>\n",
              "      <td>0.000000</td>\n",
              "    </tr>\n",
              "    <tr>\n",
              "      <th>50%</th>\n",
              "      <td>1.569434e+07</td>\n",
              "      <td>37.000000</td>\n",
              "      <td>70000.000000</td>\n",
              "      <td>0.000000</td>\n",
              "    </tr>\n",
              "    <tr>\n",
              "      <th>75%</th>\n",
              "      <td>1.575036e+07</td>\n",
              "      <td>46.000000</td>\n",
              "      <td>88000.000000</td>\n",
              "      <td>1.000000</td>\n",
              "    </tr>\n",
              "    <tr>\n",
              "      <th>max</th>\n",
              "      <td>1.581524e+07</td>\n",
              "      <td>60.000000</td>\n",
              "      <td>150000.000000</td>\n",
              "      <td>1.000000</td>\n",
              "    </tr>\n",
              "  </tbody>\n",
              "</table>\n",
              "</div>"
            ],
            "text/plain": [
              "            User ID         Age  EstimatedSalary   Purchased\n",
              "count  4.000000e+02  400.000000       400.000000  400.000000\n",
              "mean   1.569154e+07   37.655000     69742.500000    0.357500\n",
              "std    7.165832e+04   10.482877     34096.960282    0.479864\n",
              "min    1.556669e+07   18.000000     15000.000000    0.000000\n",
              "25%    1.562676e+07   29.750000     43000.000000    0.000000\n",
              "50%    1.569434e+07   37.000000     70000.000000    0.000000\n",
              "75%    1.575036e+07   46.000000     88000.000000    1.000000\n",
              "max    1.581524e+07   60.000000    150000.000000    1.000000"
            ]
          },
          "metadata": {
            "tags": []
          },
          "execution_count": 167
        }
      ]
    },
    {
      "cell_type": "markdown",
      "metadata": {
        "id": "SWm0Sd3h21nE",
        "colab_type": "text"
      },
      "source": [
        "Before moving on further let us encode the categorical variable - gender"
      ]
    },
    {
      "cell_type": "code",
      "metadata": {
        "id": "AmpWStzx20K9",
        "colab_type": "code",
        "colab": {
          "base_uri": "https://localhost:8080/",
          "height": 204
        },
        "outputId": "d6b45b30-a1ae-422c-b485-7ca48b237323"
      },
      "source": [
        "#Using label encoder to encode the categorical feature - Gender\n",
        "from sklearn.preprocessing import LabelEncoder\n",
        "le = LabelEncoder()\n",
        "\n",
        "data['Gender'] = le.fit_transform(data['Gender'])\n",
        "data.head()"
      ],
      "execution_count": 168,
      "outputs": [
        {
          "output_type": "execute_result",
          "data": {
            "text/html": [
              "<div>\n",
              "<style scoped>\n",
              "    .dataframe tbody tr th:only-of-type {\n",
              "        vertical-align: middle;\n",
              "    }\n",
              "\n",
              "    .dataframe tbody tr th {\n",
              "        vertical-align: top;\n",
              "    }\n",
              "\n",
              "    .dataframe thead th {\n",
              "        text-align: right;\n",
              "    }\n",
              "</style>\n",
              "<table border=\"1\" class=\"dataframe\">\n",
              "  <thead>\n",
              "    <tr style=\"text-align: right;\">\n",
              "      <th></th>\n",
              "      <th>User ID</th>\n",
              "      <th>Gender</th>\n",
              "      <th>Age</th>\n",
              "      <th>EstimatedSalary</th>\n",
              "      <th>Purchased</th>\n",
              "    </tr>\n",
              "  </thead>\n",
              "  <tbody>\n",
              "    <tr>\n",
              "      <th>0</th>\n",
              "      <td>15624510</td>\n",
              "      <td>1</td>\n",
              "      <td>19</td>\n",
              "      <td>19000</td>\n",
              "      <td>0</td>\n",
              "    </tr>\n",
              "    <tr>\n",
              "      <th>1</th>\n",
              "      <td>15810944</td>\n",
              "      <td>1</td>\n",
              "      <td>35</td>\n",
              "      <td>20000</td>\n",
              "      <td>0</td>\n",
              "    </tr>\n",
              "    <tr>\n",
              "      <th>2</th>\n",
              "      <td>15668575</td>\n",
              "      <td>0</td>\n",
              "      <td>26</td>\n",
              "      <td>43000</td>\n",
              "      <td>0</td>\n",
              "    </tr>\n",
              "    <tr>\n",
              "      <th>3</th>\n",
              "      <td>15603246</td>\n",
              "      <td>0</td>\n",
              "      <td>27</td>\n",
              "      <td>57000</td>\n",
              "      <td>0</td>\n",
              "    </tr>\n",
              "    <tr>\n",
              "      <th>4</th>\n",
              "      <td>15804002</td>\n",
              "      <td>1</td>\n",
              "      <td>19</td>\n",
              "      <td>76000</td>\n",
              "      <td>0</td>\n",
              "    </tr>\n",
              "  </tbody>\n",
              "</table>\n",
              "</div>"
            ],
            "text/plain": [
              "    User ID  Gender  Age  EstimatedSalary  Purchased\n",
              "0  15624510       1   19            19000          0\n",
              "1  15810944       1   35            20000          0\n",
              "2  15668575       0   26            43000          0\n",
              "3  15603246       0   27            57000          0\n",
              "4  15804002       1   19            76000          0"
            ]
          },
          "metadata": {
            "tags": []
          },
          "execution_count": 168
        }
      ]
    },
    {
      "cell_type": "code",
      "metadata": {
        "id": "FgaTmSHx1Tcz",
        "colab_type": "code",
        "colab": {
          "base_uri": "https://localhost:8080/",
          "height": 613
        },
        "outputId": "fa5b89fc-b079-4ee4-f665-8f59141d14bb"
      },
      "source": [
        "#Plotting heatmap of correlation matrix of features\n",
        "plt.figure(figsize=(10,10))\n",
        "sns.heatmap(data.corr(),annot=True,cmap='inferno',mask=np.triu(data.corr(),k=1))"
      ],
      "execution_count": 169,
      "outputs": [
        {
          "output_type": "execute_result",
          "data": {
            "text/plain": [
              "<matplotlib.axes._subplots.AxesSubplot at 0x7f22e0e5b5f8>"
            ]
          },
          "metadata": {
            "tags": []
          },
          "execution_count": 169
        },
        {
          "output_type": "display_data",
          "data": {
            "image/png": "[encoded data removed]",
            "text/plain": [
              "<Figure size 720x720 with 2 Axes>"
            ]
          },
          "metadata": {
            "tags": [],
            "needs_background": "light"
          }
        }
      ]
    },
    {
      "cell_type": "markdown",
      "metadata": {
        "id": "TNjd07nS1ntV",
        "colab_type": "text"
      },
      "source": [
        "As there is little to no relation of userID and gender w.r.t the dependent feature - Purchased, we will drop it."
      ]
    },
    {
      "cell_type": "code",
      "metadata": {
        "id": "8v626iPA1h_y",
        "colab_type": "code",
        "colab": {
          "base_uri": "https://localhost:8080/",
          "height": 221
        },
        "outputId": "02c14e32-2f4a-404d-c85d-70441159282f"
      },
      "source": [
        "#Replacing space in column headers with '_'\n",
        "data.columns = data.columns.str.replace(' ', '_')\n",
        "data.info()"
      ],
      "execution_count": 170,
      "outputs": [
        {
          "output_type": "stream",
          "text": [
            "<class 'pandas.core.frame.DataFrame'>\n",
            "RangeIndex: 400 entries, 0 to 399\n",
            "Data columns (total 5 columns):\n",
            " #   Column           Non-Null Count  Dtype\n",
            "---  ------           --------------  -----\n",
            " 0   User_ID          400 non-null    int64\n",
            " 1   Gender           400 non-null    int64\n",
            " 2   Age              400 non-null    int64\n",
            " 3   EstimatedSalary  400 non-null    int64\n",
            " 4   Purchased        400 non-null    int64\n",
            "dtypes: int64(5)\n",
            "memory usage: 15.8 KB\n"
          ],
          "name": "stdout"
        }
      ]
    },
    {
      "cell_type": "code",
      "metadata": {
        "id": "yUr1ZJ8q2PwD",
        "colab_type": "code",
        "colab": {
          "base_uri": "https://localhost:8080/",
          "height": 187
        },
        "outputId": "c28d39ac-af67-481d-85bb-cec0f25539a7"
      },
      "source": [
        "#Dropping user_id and gender\n",
        "data.drop(labels = ['User_ID','Gender'], axis = 1, inplace = True)\n",
        "data.info()"
      ],
      "execution_count": 171,
      "outputs": [
        {
          "output_type": "stream",
          "text": [
            "<class 'pandas.core.frame.DataFrame'>\n",
            "RangeIndex: 400 entries, 0 to 399\n",
            "Data columns (total 3 columns):\n",
            " #   Column           Non-Null Count  Dtype\n",
            "---  ------           --------------  -----\n",
            " 0   Age              400 non-null    int64\n",
            " 1   EstimatedSalary  400 non-null    int64\n",
            " 2   Purchased        400 non-null    int64\n",
            "dtypes: int64(3)\n",
            "memory usage: 9.5 KB\n"
          ],
          "name": "stdout"
        }
      ]
    },
    {
      "cell_type": "code",
      "metadata": {
        "id": "p2SR7hMP2ohD",
        "colab_type": "code",
        "colab": {
          "base_uri": "https://localhost:8080/",
          "height": 34
        },
        "outputId": "8bb38012-9351-45db-9913-da8582ca8613"
      },
      "source": [
        "#checking for duplicates\n",
        "sum(data.duplicated())"
      ],
      "execution_count": 172,
      "outputs": [
        {
          "output_type": "execute_result",
          "data": {
            "text/plain": [
              "33"
            ]
          },
          "metadata": {
            "tags": []
          },
          "execution_count": 172
        }
      ]
    },
    {
      "cell_type": "markdown",
      "metadata": {
        "id": "yxttMuid5yYu",
        "colab_type": "text"
      },
      "source": [
        "These are the duplicate data present. We will delete them"
      ]
    },
    {
      "cell_type": "code",
      "metadata": {
        "id": "5qmjj_Yy5YI3",
        "colab_type": "code",
        "colab": {}
      },
      "source": [
        "#dropping ALL duplicate values\n",
        "data.drop_duplicates(keep = False, inplace = True)"
      ],
      "execution_count": 173,
      "outputs": []
    },
    {
      "cell_type": "markdown",
      "metadata": {
        "id": "Hmww0s-v7Ijx",
        "colab_type": "text"
      },
      "source": [
        "Let us find outliers"
      ]
    },
    {
      "cell_type": "code",
      "metadata": {
        "id": "xhOdxigC6P8F",
        "colab_type": "code",
        "colab": {
          "base_uri": "https://localhost:8080/",
          "height": 254
        },
        "outputId": "129ab7d2-9530-4ed5-dd06-a6d979a7ab45"
      },
      "source": [
        "#Plotting boxplot of features to find outliers\n",
        "plt.figure(figsize=(20, 12))\n",
        "\n",
        "plt.subplot(3,3,1)\n",
        "sns.boxplot(data['Age'],color='yellow')\n",
        "plt.subplot(3,3,2)\n",
        "sns.boxplot(data['EstimatedSalary'], color='yellow')\n",
        "\n",
        "plt.show()"
      ],
      "execution_count": 174,
      "outputs": [
        {
          "output_type": "display_data",
          "data": {
            "image/png": "[encoded data removed]",
            "text/plain": [
              "<Figure size 1440x864 with 2 Axes>"
            ]
          },
          "metadata": {
            "tags": [],
            "needs_background": "light"
          }
        }
      ]
    },
    {
      "cell_type": "markdown",
      "metadata": {
        "id": "DPfu3thy7sQa",
        "colab_type": "text"
      },
      "source": [
        "There seems to be no outliers present"
      ]
    },
    {
      "cell_type": "code",
      "metadata": {
        "id": "q3eZhL7j8eSK",
        "colab_type": "code",
        "colab": {
          "base_uri": "https://localhost:8080/",
          "height": 312
        },
        "outputId": "98e93a4e-d6bf-4515-e9f9-9e548c4998c8"
      },
      "source": [
        "#Viewing class distribution\n",
        "plt.figure(figsize=(6, 4))\n",
        "sns.countplot('Purchased', data=data)\n",
        "plt.title('Class Distributions')"
      ],
      "execution_count": 175,
      "outputs": [
        {
          "output_type": "execute_result",
          "data": {
            "text/plain": [
              "Text(0.5, 1.0, 'Class Distributions')"
            ]
          },
          "metadata": {
            "tags": []
          },
          "execution_count": 175
        },
        {
          "output_type": "display_data",
          "data": {
            "image/png": "[encoded data removed]",
            "text/plain": [
              "<Figure size 432x288 with 1 Axes>"
            ]
          },
          "metadata": {
            "tags": [],
            "needs_background": "light"
          }
        }
      ]
    },
    {
      "cell_type": "markdown",
      "metadata": {
        "id": "sWisD7rF8tCv",
        "colab_type": "text"
      },
      "source": [
        "The data is not too imbalanced so no need of resampling."
      ]
    },
    {
      "cell_type": "markdown",
      "metadata": {
        "id": "mTFQT8KH71W_",
        "colab_type": "text"
      },
      "source": [
        "#**Model Training**"
      ]
    },
    {
      "cell_type": "code",
      "metadata": {
        "id": "L1_-wTyNaZii",
        "colab_type": "code",
        "colab": {}
      },
      "source": [
        "#Getting X and y\n",
        "X = data.iloc[:,:-1].values\n",
        "y = data.iloc[:,-1].values"
      ],
      "execution_count": 176,
      "outputs": []
    },
    {
      "cell_type": "code",
      "metadata": {
        "id": "lA2zN0JH74_W",
        "colab_type": "code",
        "colab": {
          "base_uri": "https://localhost:8080/",
          "height": 51
        },
        "outputId": "936d10e1-373d-43f9-a007-01e306f3224e"
      },
      "source": [
        "#Splitting data\n",
        "from sklearn.model_selection import train_test_split\n",
        "X_train, X_test, y_train, y_test = train_test_split(X, y, test_size = 0.2, random_state = 0)\n",
        "print(X_train.shape, y_train.shape, X_test.shape, y_test.shape)\n",
        "\n",
        "#reshaping\n",
        "y_train = y_train.reshape(len(y_train), 1)\n",
        "y_test = y_test.reshape(len(y_test), 1)\n",
        "print(X_train.shape, y_train.shape, X_test.shape, y_test.shape)"
      ],
      "execution_count": 177,
      "outputs": [
        {
          "output_type": "stream",
          "text": [
            "(269, 2) (269,) (68, 2) (68,)\n",
            "(269, 2) (269, 1) (68, 2) (68, 1)\n"
          ],
          "name": "stdout"
        }
      ]
    },
    {
      "cell_type": "markdown",
      "metadata": {
        "id": "JJTamhyQQAVm",
        "colab_type": "text"
      },
      "source": [
        "Scaling data"
      ]
    },
    {
      "cell_type": "code",
      "metadata": {
        "id": "ZImFFYsUP_CW",
        "colab_type": "code",
        "colab": {}
      },
      "source": [
        "from sklearn.preprocessing import StandardScaler\n",
        "scaler = StandardScaler()\n",
        "\n",
        "X_train = scaler.fit_transform(X_train)\n",
        "X_test = scaler.transform(X_test)"
      ],
      "execution_count": 178,
      "outputs": []
    },
    {
      "cell_type": "code",
      "metadata": {
        "id": "qdqZ-f3S7NXU",
        "colab_type": "code",
        "colab": {
          "base_uri": "https://localhost:8080/",
          "height": 34
        },
        "outputId": "62422bdd-f6a2-439e-d082-af0dfe90f8dd"
      },
      "source": [
        "#adding bias variable\n",
        "X_new = np.concatenate((np.ones((len(X_train), 1), dtype = int), X_train), axis = 1)\n",
        "print(X_new.shape)"
      ],
      "execution_count": 179,
      "outputs": [
        {
          "output_type": "stream",
          "text": [
            "(269, 3)\n"
          ],
          "name": "stdout"
        }
      ]
    },
    {
      "cell_type": "code",
      "metadata": {
        "id": "BIKHLBPC9Fmv",
        "colab_type": "code",
        "colab": {}
      },
      "source": [
        "#Sigmoid activation function\n",
        "def sigmoid_function(X, theta):\n",
        "    \"\"\"\n",
        "    Arguments: \n",
        "      X - Feature matrix X also containing the bias variable\n",
        "      theta - parameters being optimized\n",
        "\n",
        "    Returns:\n",
        "      h - hypothesis function 1 / (1 + e ^-(X * theta))\n",
        "    \"\"\"\n",
        "\n",
        "    h = (1 / (1 + np.exp(-np.matmul(X, theta))))\n",
        "    return h"
      ],
      "execution_count": 90,
      "outputs": []
    },
    {
      "cell_type": "code",
      "metadata": {
        "id": "ADJqTecb9H4e",
        "colab_type": "code",
        "colab": {}
      },
      "source": [
        "#Computing cost\n",
        "def cost_function(m, h, y):\n",
        "    \"\"\"\n",
        "    Arguments: \n",
        "      m - size of training set\n",
        "      h - hypothesis function (X * theta)\n",
        "      y - dependent variable\n",
        "\n",
        "    Returns:\n",
        "      J - Computed cost    \n",
        "    \"\"\"\n",
        "    \n",
        "    J = (np.sum((-y * np.log(h)) - ((1 - y) * (np.log(1 - h)))) / m)\n",
        "    return J"
      ],
      "execution_count": 79,
      "outputs": []
    },
    {
      "cell_type": "code",
      "metadata": {
        "id": "1yUK_GZs9Kiu",
        "colab_type": "code",
        "colab": {}
      },
      "source": [
        "#gradient descent\n",
        "def grad_func(m, X, y, theta, alpha, h):\n",
        "    \"\"\"\n",
        "    Arguments: \n",
        "      m - size of training set\n",
        "      X - Feature matrix X also containing the bias variable\n",
        "      y - dependent variable\n",
        "      theta - parameters being optimized\n",
        "      alpha - learning rate \n",
        "      h - hypothesis function (X * theta)\n",
        "\n",
        "    Returns:\n",
        "      theta - Optimized parameters    \n",
        "    \"\"\"\n",
        "\n",
        "    theta = theta - ((alpha/m) * (np.matmul((h - y).T, X))).T\n",
        "    return theta"
      ],
      "execution_count": 55,
      "outputs": []
    },
    {
      "cell_type": "code",
      "metadata": {
        "id": "OT-oOnmp9Oj3",
        "colab_type": "code",
        "colab": {
          "base_uri": "https://localhost:8080/",
          "height": 295
        },
        "outputId": "e17fe0e2-5468-4a4a-accb-4fde2360c160"
      },
      "source": [
        "#Logistic Regression from scratch\n",
        "m = len(X_new)\n",
        "alpha = 0.01403 #Obatined by trial and error\n",
        "cost = []\n",
        "epochs = 2000\n",
        "\n",
        "#theta initialization\n",
        "theta = np.zeros((X_new.shape[1], 1),dtype=float)\n",
        "\n",
        "for i in range(epochs):\n",
        "  h = sigmoid_function(X_new, theta)\n",
        "  J = cost_function(m, h, y_train)\n",
        "  cost.append(J)\n",
        "  theta = grad_func(m, X_new, y_train, theta, alpha, h)\n",
        "\n",
        "#Plotting cost function vs epochs\n",
        "plt.plot(list(range(epochs)), cost, '-r')\n",
        "plt.title(\"Cost function vs epochs\")\n",
        "plt.xlabel(\"epochs\")\n",
        "plt.ylabel(\"J - cost function\")\n",
        "plt.show()"
      ],
      "execution_count": 180,
      "outputs": [
        {
          "output_type": "display_data",
          "data": {
            "image/png": "[encoded data removed]",
            "text/plain": [
              "<Figure size 432x288 with 1 Axes>"
            ]
          },
          "metadata": {
            "tags": [],
            "needs_background": "light"
          }
        }
      ]
    },
    {
      "cell_type": "code",
      "metadata": {
        "id": "igEg3U6h-p8I",
        "colab_type": "code",
        "colab": {
          "base_uri": "https://localhost:8080/",
          "height": 34
        },
        "outputId": "a792fac3-0832-441f-e774-0f8d42693f4b"
      },
      "source": [
        "#Preparing test data\n",
        "\n",
        "#adding bias variable\n",
        "Xt_new = np.concatenate((np.ones((len(X_test), 1), dtype=int), X_test), axis=1)\n",
        "print(Xt_new.shape, y_test.shape)"
      ],
      "execution_count": 181,
      "outputs": [
        {
          "output_type": "stream",
          "text": [
            "(68, 3) (68, 1)\n"
          ],
          "name": "stdout"
        }
      ]
    },
    {
      "cell_type": "code",
      "metadata": {
        "id": "CY-pMP8eRqnh",
        "colab_type": "code",
        "colab": {
          "base_uri": "https://localhost:8080/",
          "height": 51
        },
        "outputId": "07efd384-3036-422d-b3f6-0973023901a5"
      },
      "source": [
        "#Predicting results\n",
        "y_pred = sigmoid_function(Xt_new, theta)\n",
        "print(y_pred.shape)\n",
        "\n",
        "y_pred_new = []\n",
        "for x in y_pred:\n",
        "    y_pred_new.append(1 if(x > 0.5) else 0)\n",
        "\n",
        "y_pred_new = np.array(y_pred_new)\n",
        "y_pred_new = y_pred_new.T\n",
        "y_pred_new = y_pred_new.reshape(len(y_pred_new), 1)\n",
        "\n",
        "print(y_pred_new.shape)"
      ],
      "execution_count": 182,
      "outputs": [
        {
          "output_type": "stream",
          "text": [
            "(68, 1)\n",
            "(68, 1)\n"
          ],
          "name": "stdout"
        }
      ]
    },
    {
      "cell_type": "code",
      "metadata": {
        "id": "26V6mx9Vj-FN",
        "colab_type": "code",
        "colab": {
          "base_uri": "https://localhost:8080/",
          "height": 282
        },
        "outputId": "b4d71d38-bed8-4cec-b37c-9d6823dde549"
      },
      "source": [
        "#Confusion matrix visualized:\n",
        "from sklearn.metrics import confusion_matrix\n",
        "cf_matrix = confusion_matrix(y_test, y_pred_new)\n",
        "\n",
        "sns.heatmap(cf_matrix, annot=True)"
      ],
      "execution_count": 183,
      "outputs": [
        {
          "output_type": "execute_result",
          "data": {
            "text/plain": [
              "<matplotlib.axes._subplots.AxesSubplot at 0x7f22d7272320>"
            ]
          },
          "metadata": {
            "tags": []
          },
          "execution_count": 183
        },
        {
          "output_type": "display_data",
          "data": {
            "image/png": "[encoded data removed]",
            "text/plain": [
              "<Figure size 432x288 with 2 Axes>"
            ]
          },
          "metadata": {
            "tags": [],
            "needs_background": "light"
          }
        }
      ]
    },
    {
      "cell_type": "code",
      "metadata": {
        "id": "70KUHKKwRzYv",
        "colab_type": "code",
        "colab": {
          "base_uri": "https://localhost:8080/",
          "height": 170
        },
        "outputId": "2ea73e2e-e33b-4b0a-d669-6d8c9a76dbce"
      },
      "source": [
        "#Metrics based result\n",
        "from sklearn.metrics import classification_report\n",
        "print(classification_report(y_test, y_pred_new))"
      ],
      "execution_count": 184,
      "outputs": [
        {
          "output_type": "stream",
          "text": [
            "              precision    recall  f1-score   support\n",
            "\n",
            "           0       0.84      0.90      0.87        41\n",
            "           1       0.83      0.74      0.78        27\n",
            "\n",
            "    accuracy                           0.84        68\n",
            "   macro avg       0.84      0.82      0.83        68\n",
            "weighted avg       0.84      0.84      0.84        68\n",
            "\n"
          ],
          "name": "stdout"
        }
      ]
    },
    {
      "cell_type": "markdown",
      "metadata": {
        "id": "d7TSA7M0gsY-",
        "colab_type": "text"
      },
      "source": [
        "**Thank you!** -@Vishal_Kundar"
      ]
    }
  ]
}