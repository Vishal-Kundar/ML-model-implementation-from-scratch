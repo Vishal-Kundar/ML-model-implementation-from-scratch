{
  "nbformat": 4,
  "nbformat_minor": 0,
  "metadata": {
    "colab": {
      "name": "NormalEquation.ipynb",
      "provenance": []
    },
    "kernelspec": {
      "name": "python3",
      "display_name": "Python 3"
    }
  },
  "cells": [
    {
      "cell_type": "markdown",
      "metadata": {
        "id": "qdcScf0SJpiS"
      },
      "source": [
        "**NORMAL EQUATION METHOD**\n",
        "\n",
        "We will compare normal equation method with simple linear regression using scikit learn"
      ]
    },
    {
      "cell_type": "code",
      "metadata": {
        "id": "7N7srg19KHjl"
      },
      "source": [
        "#Importing packages\n",
        "import pandas as pd\n",
        "import numpy as np\n",
        "import matplotlib.pyplot as plt"
      ],
      "execution_count": 1,
      "outputs": []
    },
    {
      "cell_type": "code",
      "metadata": {
        "colab": {
          "base_uri": "https://localhost:8080/"
        },
        "id": "sqCd4hMRJmG8",
        "outputId": "f3557518-b270-4a47-b995-d4075228fb77"
      },
      "source": [
        "#Reading data\n",
        "data = pd.read_csv(\"Salary_Data.csv\")\n",
        "print(data.head())"
      ],
      "execution_count": 2,
      "outputs": [
        {
          "output_type": "stream",
          "text": [
            "   YearsExperience   Salary\n",
            "0              1.1  39343.0\n",
            "1              1.3  46205.0\n",
            "2              NaN  37731.0\n",
            "3              2.0  43525.0\n",
            "4              2.2  39891.0\n"
          ],
          "name": "stdout"
        }
      ]
    },
    {
      "cell_type": "code",
      "metadata": {
        "colab": {
          "base_uri": "https://localhost:8080/"
        },
        "id": "tNqIhWf1KVtN",
        "outputId": "09f691dd-0948-4893-ebaa-ab332eb80e2f"
      },
      "source": [
        "data.info()"
      ],
      "execution_count": 4,
      "outputs": [
        {
          "output_type": "stream",
          "text": [
            "<class 'pandas.core.frame.DataFrame'>\n",
            "RangeIndex: 30 entries, 0 to 29\n",
            "Data columns (total 2 columns):\n",
            " #   Column           Non-Null Count  Dtype  \n",
            "---  ------           --------------  -----  \n",
            " 0   YearsExperience  29 non-null     float64\n",
            " 1   Salary           30 non-null     float64\n",
            "dtypes: float64(2)\n",
            "memory usage: 608.0 bytes\n"
          ],
          "name": "stdout"
        }
      ]
    },
    {
      "cell_type": "code",
      "metadata": {
        "colab": {
          "base_uri": "https://localhost:8080/"
        },
        "id": "QwOOrS_8KugA",
        "outputId": "b02fd67c-8667-4b6c-e7cb-97a69fc37679"
      },
      "source": [
        "#Splitting to X and y\n",
        "X = data.iloc[:, 0].values\n",
        "Y = data.iloc[:, 1].values\n",
        "\n",
        "print(X.shape)\n",
        "print(Y.shape)\n",
        "\n",
        "X = X.reshape((X.shape[0], 1))\n",
        "Y = Y.reshape((Y.shape[0], 1))\n",
        "\n",
        "print(X.shape)\n",
        "print(Y.shape)"
      ],
      "execution_count": 6,
      "outputs": [
        {
          "output_type": "stream",
          "text": [
            "(30,)\n",
            "(30,)\n",
            "(30, 1)\n",
            "(30, 1)\n"
          ],
          "name": "stdout"
        }
      ]
    },
    {
      "cell_type": "code",
      "metadata": {
        "id": "tFYFzuGQKXrE"
      },
      "source": [
        "#Handling missing data\n",
        "from sklearn.impute import SimpleImputer\n",
        "imputer = SimpleImputer(missing_values = np.nan, strategy = 'mean')\n",
        "X = imputer.fit_transform(X)"
      ],
      "execution_count": 7,
      "outputs": []
    },
    {
      "cell_type": "markdown",
      "metadata": {
        "id": "b9Y7Q3i6LWZX"
      },
      "source": [
        "Normal Equation formula:\n",
        "\n",
        "theta = inv(X.T * X) * X.T * Y"
      ]
    },
    {
      "cell_type": "code",
      "metadata": {
        "colab": {
          "base_uri": "https://localhost:8080/"
        },
        "id": "_XdcFgXJLJyQ",
        "outputId": "231002ec-0401-4801-c488-b4a0d4db93ef"
      },
      "source": [
        "#Adding bias for normal equation method. No need to add with sklearn\n",
        "X_new = np.concatenate((np.ones((X.shape[0], 1)), X), axis = 1)\n",
        "\n",
        "#Normal equation\n",
        "theta = np.matmul(np.matmul(np.linalg.inv(np.matmul(X_new.T, X_new)), X_new.T), Y)\n",
        "print(\"theta: \", theta)"
      ],
      "execution_count": 17,
      "outputs": [
        {
          "output_type": "stream",
          "text": [
            "theta:  [[24769.38923719]\n",
            " [ 9409.59285701]]\n"
          ],
          "name": "stdout"
        }
      ]
    },
    {
      "cell_type": "code",
      "metadata": {
        "colab": {
          "base_uri": "https://localhost:8080/"
        },
        "id": "ctfmOFe-MXGX",
        "outputId": "0fa74634-cb37-41e5-eef3-09a70696f21c"
      },
      "source": [
        "#Let us compare with theta of sklearn package\n",
        "from sklearn.linear_model import LinearRegression\n",
        "model = LinearRegression()\n",
        "model.fit(X, Y)"
      ],
      "execution_count": 10,
      "outputs": [
        {
          "output_type": "execute_result",
          "data": {
            "text/plain": [
              "LinearRegression(copy_X=True, fit_intercept=True, n_jobs=None, normalize=False)"
            ]
          },
          "metadata": {
            "tags": []
          },
          "execution_count": 10
        }
      ]
    },
    {
      "cell_type": "code",
      "metadata": {
        "colab": {
          "base_uri": "https://localhost:8080/"
        },
        "id": "FvplGivPMndg",
        "outputId": "9b09f5f3-8161-49f9-9f57-c67096f738db"
      },
      "source": [
        "print(\"x0: \", model.intercept_, \"x1: \", model.coef_)"
      ],
      "execution_count": 15,
      "outputs": [
        {
          "output_type": "stream",
          "text": [
            "x0:  [24769.38923719] x1:  [[9409.59285701]]\n"
          ],
          "name": "stdout"
        }
      ]
    },
    {
      "cell_type": "markdown",
      "metadata": {
        "id": "rLyCtfnGO25Y"
      },
      "source": [
        "**As we can observe with small datasets normal equation gives same/better results as sklearn package.**"
      ]
    }
  ]
}